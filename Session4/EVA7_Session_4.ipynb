{
  "nbformat": 4,
  "nbformat_minor": 0,
  "metadata": {
    "colab": {
      "name": "EVA7 - Session 4.ipynb",
      "provenance": [],
      "collapsed_sections": [],
      "include_colab_link": true
    },
    "kernelspec": {
      "name": "python3",
      "display_name": "Python 3"
    },
    "accelerator": "GPU",
    "widgets": {
      "application/vnd.jupyter.widget-state+json": {
        "224d10d1b0b2478d83728a2eab676003": {
          "model_module": "@jupyter-widgets/controls",
          "model_name": "HBoxModel",
          "model_module_version": "1.5.0",
          "state": {
            "_view_name": "HBoxView",
            "_dom_classes": [],
            "_model_name": "HBoxModel",
            "_view_module": "@jupyter-widgets/controls",
            "_model_module_version": "1.5.0",
            "_view_count": null,
            "_view_module_version": "1.5.0",
            "box_style": "",
            "layout": "IPY_MODEL_29c3b6946f094476ad9da3cfa33aeb82",
            "_model_module": "@jupyter-widgets/controls",
            "children": [
              "IPY_MODEL_f00b73782cd94fb383ff92d58159e992",
              "IPY_MODEL_2aa6c9e9ad4f4fc490bb233fa19161c0",
              "IPY_MODEL_f41ad69d3dbe42a9baf5537eb7779001"
            ]
          }
        },
        "29c3b6946f094476ad9da3cfa33aeb82": {
          "model_module": "@jupyter-widgets/base",
          "model_name": "LayoutModel",
          "model_module_version": "1.2.0",
          "state": {
            "_view_name": "LayoutView",
            "grid_template_rows": null,
            "right": null,
            "justify_content": null,
            "_view_module": "@jupyter-widgets/base",
            "overflow": null,
            "_model_module_version": "1.2.0",
            "_view_count": null,
            "flex_flow": null,
            "width": null,
            "min_width": null,
            "border": null,
            "align_items": null,
            "bottom": null,
            "_model_module": "@jupyter-widgets/base",
            "top": null,
            "grid_column": null,
            "overflow_y": null,
            "overflow_x": null,
            "grid_auto_flow": null,
            "grid_area": null,
            "grid_template_columns": null,
            "flex": null,
            "_model_name": "LayoutModel",
            "justify_items": null,
            "grid_row": null,
            "max_height": null,
            "align_content": null,
            "visibility": null,
            "align_self": null,
            "height": null,
            "min_height": null,
            "padding": null,
            "grid_auto_rows": null,
            "grid_gap": null,
            "max_width": null,
            "order": null,
            "_view_module_version": "1.2.0",
            "grid_template_areas": null,
            "object_position": null,
            "object_fit": null,
            "grid_auto_columns": null,
            "margin": null,
            "display": null,
            "left": null
          }
        },
        "f00b73782cd94fb383ff92d58159e992": {
          "model_module": "@jupyter-widgets/controls",
          "model_name": "HTMLModel",
          "model_module_version": "1.5.0",
          "state": {
            "_view_name": "HTMLView",
            "style": "IPY_MODEL_48df2963deac4379b0e035bfaf28631a",
            "_dom_classes": [],
            "description": "",
            "_model_name": "HTMLModel",
            "placeholder": "​",
            "_view_module": "@jupyter-widgets/controls",
            "_model_module_version": "1.5.0",
            "value": "",
            "_view_count": null,
            "_view_module_version": "1.5.0",
            "description_tooltip": null,
            "_model_module": "@jupyter-widgets/controls",
            "layout": "IPY_MODEL_69591751d2834983bbda442db1b94d1b"
          }
        },
        "2aa6c9e9ad4f4fc490bb233fa19161c0": {
          "model_module": "@jupyter-widgets/controls",
          "model_name": "FloatProgressModel",
          "model_module_version": "1.5.0",
          "state": {
            "_view_name": "ProgressView",
            "style": "IPY_MODEL_a8458431724643fdb3a1244f08fac11d",
            "_dom_classes": [],
            "description": "",
            "_model_name": "FloatProgressModel",
            "bar_style": "success",
            "max": 9912422,
            "_view_module": "@jupyter-widgets/controls",
            "_model_module_version": "1.5.0",
            "value": 9912422,
            "_view_count": null,
            "_view_module_version": "1.5.0",
            "orientation": "horizontal",
            "min": 0,
            "description_tooltip": null,
            "_model_module": "@jupyter-widgets/controls",
            "layout": "IPY_MODEL_27c4f6ffb93a4becb7433e84fee59621"
          }
        },
        "f41ad69d3dbe42a9baf5537eb7779001": {
          "model_module": "@jupyter-widgets/controls",
          "model_name": "HTMLModel",
          "model_module_version": "1.5.0",
          "state": {
            "_view_name": "HTMLView",
            "style": "IPY_MODEL_dec6f465264c4ccea4a571ac8442a81f",
            "_dom_classes": [],
            "description": "",
            "_model_name": "HTMLModel",
            "placeholder": "​",
            "_view_module": "@jupyter-widgets/controls",
            "_model_module_version": "1.5.0",
            "value": " 9913344/? [00:00&lt;00:00, 20877886.61it/s]",
            "_view_count": null,
            "_view_module_version": "1.5.0",
            "description_tooltip": null,
            "_model_module": "@jupyter-widgets/controls",
            "layout": "IPY_MODEL_dbe1749fae3e4ca2a794701dfe88b012"
          }
        },
        "48df2963deac4379b0e035bfaf28631a": {
          "model_module": "@jupyter-widgets/controls",
          "model_name": "DescriptionStyleModel",
          "model_module_version": "1.5.0",
          "state": {
            "_view_name": "StyleView",
            "_model_name": "DescriptionStyleModel",
            "description_width": "",
            "_view_module": "@jupyter-widgets/base",
            "_model_module_version": "1.5.0",
            "_view_count": null,
            "_view_module_version": "1.2.0",
            "_model_module": "@jupyter-widgets/controls"
          }
        },
        "69591751d2834983bbda442db1b94d1b": {
          "model_module": "@jupyter-widgets/base",
          "model_name": "LayoutModel",
          "model_module_version": "1.2.0",
          "state": {
            "_view_name": "LayoutView",
            "grid_template_rows": null,
            "right": null,
            "justify_content": null,
            "_view_module": "@jupyter-widgets/base",
            "overflow": null,
            "_model_module_version": "1.2.0",
            "_view_count": null,
            "flex_flow": null,
            "width": null,
            "min_width": null,
            "border": null,
            "align_items": null,
            "bottom": null,
            "_model_module": "@jupyter-widgets/base",
            "top": null,
            "grid_column": null,
            "overflow_y": null,
            "overflow_x": null,
            "grid_auto_flow": null,
            "grid_area": null,
            "grid_template_columns": null,
            "flex": null,
            "_model_name": "LayoutModel",
            "justify_items": null,
            "grid_row": null,
            "max_height": null,
            "align_content": null,
            "visibility": null,
            "align_self": null,
            "height": null,
            "min_height": null,
            "padding": null,
            "grid_auto_rows": null,
            "grid_gap": null,
            "max_width": null,
            "order": null,
            "_view_module_version": "1.2.0",
            "grid_template_areas": null,
            "object_position": null,
            "object_fit": null,
            "grid_auto_columns": null,
            "margin": null,
            "display": null,
            "left": null
          }
        },
        "a8458431724643fdb3a1244f08fac11d": {
          "model_module": "@jupyter-widgets/controls",
          "model_name": "ProgressStyleModel",
          "model_module_version": "1.5.0",
          "state": {
            "_view_name": "StyleView",
            "_model_name": "ProgressStyleModel",
            "description_width": "",
            "_view_module": "@jupyter-widgets/base",
            "_model_module_version": "1.5.0",
            "_view_count": null,
            "_view_module_version": "1.2.0",
            "bar_color": null,
            "_model_module": "@jupyter-widgets/controls"
          }
        },
        "27c4f6ffb93a4becb7433e84fee59621": {
          "model_module": "@jupyter-widgets/base",
          "model_name": "LayoutModel",
          "model_module_version": "1.2.0",
          "state": {
            "_view_name": "LayoutView",
            "grid_template_rows": null,
            "right": null,
            "justify_content": null,
            "_view_module": "@jupyter-widgets/base",
            "overflow": null,
            "_model_module_version": "1.2.0",
            "_view_count": null,
            "flex_flow": null,
            "width": null,
            "min_width": null,
            "border": null,
            "align_items": null,
            "bottom": null,
            "_model_module": "@jupyter-widgets/base",
            "top": null,
            "grid_column": null,
            "overflow_y": null,
            "overflow_x": null,
            "grid_auto_flow": null,
            "grid_area": null,
            "grid_template_columns": null,
            "flex": null,
            "_model_name": "LayoutModel",
            "justify_items": null,
            "grid_row": null,
            "max_height": null,
            "align_content": null,
            "visibility": null,
            "align_self": null,
            "height": null,
            "min_height": null,
            "padding": null,
            "grid_auto_rows": null,
            "grid_gap": null,
            "max_width": null,
            "order": null,
            "_view_module_version": "1.2.0",
            "grid_template_areas": null,
            "object_position": null,
            "object_fit": null,
            "grid_auto_columns": null,
            "margin": null,
            "display": null,
            "left": null
          }
        },
        "dec6f465264c4ccea4a571ac8442a81f": {
          "model_module": "@jupyter-widgets/controls",
          "model_name": "DescriptionStyleModel",
          "model_module_version": "1.5.0",
          "state": {
            "_view_name": "StyleView",
            "_model_name": "DescriptionStyleModel",
            "description_width": "",
            "_view_module": "@jupyter-widgets/base",
            "_model_module_version": "1.5.0",
            "_view_count": null,
            "_view_module_version": "1.2.0",
            "_model_module": "@jupyter-widgets/controls"
          }
        },
        "dbe1749fae3e4ca2a794701dfe88b012": {
          "model_module": "@jupyter-widgets/base",
          "model_name": "LayoutModel",
          "model_module_version": "1.2.0",
          "state": {
            "_view_name": "LayoutView",
            "grid_template_rows": null,
            "right": null,
            "justify_content": null,
            "_view_module": "@jupyter-widgets/base",
            "overflow": null,
            "_model_module_version": "1.2.0",
            "_view_count": null,
            "flex_flow": null,
            "width": null,
            "min_width": null,
            "border": null,
            "align_items": null,
            "bottom": null,
            "_model_module": "@jupyter-widgets/base",
            "top": null,
            "grid_column": null,
            "overflow_y": null,
            "overflow_x": null,
            "grid_auto_flow": null,
            "grid_area": null,
            "grid_template_columns": null,
            "flex": null,
            "_model_name": "LayoutModel",
            "justify_items": null,
            "grid_row": null,
            "max_height": null,
            "align_content": null,
            "visibility": null,
            "align_self": null,
            "height": null,
            "min_height": null,
            "padding": null,
            "grid_auto_rows": null,
            "grid_gap": null,
            "max_width": null,
            "order": null,
            "_view_module_version": "1.2.0",
            "grid_template_areas": null,
            "object_position": null,
            "object_fit": null,
            "grid_auto_columns": null,
            "margin": null,
            "display": null,
            "left": null
          }
        },
        "c237ecdbbcea4a7d99c14db30f3fd895": {
          "model_module": "@jupyter-widgets/controls",
          "model_name": "HBoxModel",
          "model_module_version": "1.5.0",
          "state": {
            "_view_name": "HBoxView",
            "_dom_classes": [],
            "_model_name": "HBoxModel",
            "_view_module": "@jupyter-widgets/controls",
            "_model_module_version": "1.5.0",
            "_view_count": null,
            "_view_module_version": "1.5.0",
            "box_style": "",
            "layout": "IPY_MODEL_7450b5de2e5c47cfa0aff5fbcd8a0905",
            "_model_module": "@jupyter-widgets/controls",
            "children": [
              "IPY_MODEL_e2eaf37612d44999b4c6c5ef40b99328",
              "IPY_MODEL_6d7883326b0a4ecd901eb55c62a204d2",
              "IPY_MODEL_403047ba2b214aa19920c3ce8231e022"
            ]
          }
        },
        "7450b5de2e5c47cfa0aff5fbcd8a0905": {
          "model_module": "@jupyter-widgets/base",
          "model_name": "LayoutModel",
          "model_module_version": "1.2.0",
          "state": {
            "_view_name": "LayoutView",
            "grid_template_rows": null,
            "right": null,
            "justify_content": null,
            "_view_module": "@jupyter-widgets/base",
            "overflow": null,
            "_model_module_version": "1.2.0",
            "_view_count": null,
            "flex_flow": null,
            "width": null,
            "min_width": null,
            "border": null,
            "align_items": null,
            "bottom": null,
            "_model_module": "@jupyter-widgets/base",
            "top": null,
            "grid_column": null,
            "overflow_y": null,
            "overflow_x": null,
            "grid_auto_flow": null,
            "grid_area": null,
            "grid_template_columns": null,
            "flex": null,
            "_model_name": "LayoutModel",
            "justify_items": null,
            "grid_row": null,
            "max_height": null,
            "align_content": null,
            "visibility": null,
            "align_self": null,
            "height": null,
            "min_height": null,
            "padding": null,
            "grid_auto_rows": null,
            "grid_gap": null,
            "max_width": null,
            "order": null,
            "_view_module_version": "1.2.0",
            "grid_template_areas": null,
            "object_position": null,
            "object_fit": null,
            "grid_auto_columns": null,
            "margin": null,
            "display": null,
            "left": null
          }
        },
        "e2eaf37612d44999b4c6c5ef40b99328": {
          "model_module": "@jupyter-widgets/controls",
          "model_name": "HTMLModel",
          "model_module_version": "1.5.0",
          "state": {
            "_view_name": "HTMLView",
            "style": "IPY_MODEL_d84e6f598b574d469a853c7835f3c6db",
            "_dom_classes": [],
            "description": "",
            "_model_name": "HTMLModel",
            "placeholder": "​",
            "_view_module": "@jupyter-widgets/controls",
            "_model_module_version": "1.5.0",
            "value": "",
            "_view_count": null,
            "_view_module_version": "1.5.0",
            "description_tooltip": null,
            "_model_module": "@jupyter-widgets/controls",
            "layout": "IPY_MODEL_29ded0728d424920b93e2cca8a25447d"
          }
        },
        "6d7883326b0a4ecd901eb55c62a204d2": {
          "model_module": "@jupyter-widgets/controls",
          "model_name": "FloatProgressModel",
          "model_module_version": "1.5.0",
          "state": {
            "_view_name": "ProgressView",
            "style": "IPY_MODEL_c124a1aa5adf4c76b35ddf33afa201f4",
            "_dom_classes": [],
            "description": "",
            "_model_name": "FloatProgressModel",
            "bar_style": "success",
            "max": 28881,
            "_view_module": "@jupyter-widgets/controls",
            "_model_module_version": "1.5.0",
            "value": 28881,
            "_view_count": null,
            "_view_module_version": "1.5.0",
            "orientation": "horizontal",
            "min": 0,
            "description_tooltip": null,
            "_model_module": "@jupyter-widgets/controls",
            "layout": "IPY_MODEL_8b8da47921394576afb41dd2695b632d"
          }
        },
        "403047ba2b214aa19920c3ce8231e022": {
          "model_module": "@jupyter-widgets/controls",
          "model_name": "HTMLModel",
          "model_module_version": "1.5.0",
          "state": {
            "_view_name": "HTMLView",
            "style": "IPY_MODEL_43044495b6fb43e5beefd37f23f4972e",
            "_dom_classes": [],
            "description": "",
            "_model_name": "HTMLModel",
            "placeholder": "​",
            "_view_module": "@jupyter-widgets/controls",
            "_model_module_version": "1.5.0",
            "value": " 29696/? [00:00&lt;00:00, 661828.04it/s]",
            "_view_count": null,
            "_view_module_version": "1.5.0",
            "description_tooltip": null,
            "_model_module": "@jupyter-widgets/controls",
            "layout": "IPY_MODEL_52ca099ce9f44da4a2bae85b741a99ab"
          }
        },
        "d84e6f598b574d469a853c7835f3c6db": {
          "model_module": "@jupyter-widgets/controls",
          "model_name": "DescriptionStyleModel",
          "model_module_version": "1.5.0",
          "state": {
            "_view_name": "StyleView",
            "_model_name": "DescriptionStyleModel",
            "description_width": "",
            "_view_module": "@jupyter-widgets/base",
            "_model_module_version": "1.5.0",
            "_view_count": null,
            "_view_module_version": "1.2.0",
            "_model_module": "@jupyter-widgets/controls"
          }
        },
        "29ded0728d424920b93e2cca8a25447d": {
          "model_module": "@jupyter-widgets/base",
          "model_name": "LayoutModel",
          "model_module_version": "1.2.0",
          "state": {
            "_view_name": "LayoutView",
            "grid_template_rows": null,
            "right": null,
            "justify_content": null,
            "_view_module": "@jupyter-widgets/base",
            "overflow": null,
            "_model_module_version": "1.2.0",
            "_view_count": null,
            "flex_flow": null,
            "width": null,
            "min_width": null,
            "border": null,
            "align_items": null,
            "bottom": null,
            "_model_module": "@jupyter-widgets/base",
            "top": null,
            "grid_column": null,
            "overflow_y": null,
            "overflow_x": null,
            "grid_auto_flow": null,
            "grid_area": null,
            "grid_template_columns": null,
            "flex": null,
            "_model_name": "LayoutModel",
            "justify_items": null,
            "grid_row": null,
            "max_height": null,
            "align_content": null,
            "visibility": null,
            "align_self": null,
            "height": null,
            "min_height": null,
            "padding": null,
            "grid_auto_rows": null,
            "grid_gap": null,
            "max_width": null,
            "order": null,
            "_view_module_version": "1.2.0",
            "grid_template_areas": null,
            "object_position": null,
            "object_fit": null,
            "grid_auto_columns": null,
            "margin": null,
            "display": null,
            "left": null
          }
        },
        "c124a1aa5adf4c76b35ddf33afa201f4": {
          "model_module": "@jupyter-widgets/controls",
          "model_name": "ProgressStyleModel",
          "model_module_version": "1.5.0",
          "state": {
            "_view_name": "StyleView",
            "_model_name": "ProgressStyleModel",
            "description_width": "",
            "_view_module": "@jupyter-widgets/base",
            "_model_module_version": "1.5.0",
            "_view_count": null,
            "_view_module_version": "1.2.0",
            "bar_color": null,
            "_model_module": "@jupyter-widgets/controls"
          }
        },
        "8b8da47921394576afb41dd2695b632d": {
          "model_module": "@jupyter-widgets/base",
          "model_name": "LayoutModel",
          "model_module_version": "1.2.0",
          "state": {
            "_view_name": "LayoutView",
            "grid_template_rows": null,
            "right": null,
            "justify_content": null,
            "_view_module": "@jupyter-widgets/base",
            "overflow": null,
            "_model_module_version": "1.2.0",
            "_view_count": null,
            "flex_flow": null,
            "width": null,
            "min_width": null,
            "border": null,
            "align_items": null,
            "bottom": null,
            "_model_module": "@jupyter-widgets/base",
            "top": null,
            "grid_column": null,
            "overflow_y": null,
            "overflow_x": null,
            "grid_auto_flow": null,
            "grid_area": null,
            "grid_template_columns": null,
            "flex": null,
            "_model_name": "LayoutModel",
            "justify_items": null,
            "grid_row": null,
            "max_height": null,
            "align_content": null,
            "visibility": null,
            "align_self": null,
            "height": null,
            "min_height": null,
            "padding": null,
            "grid_auto_rows": null,
            "grid_gap": null,
            "max_width": null,
            "order": null,
            "_view_module_version": "1.2.0",
            "grid_template_areas": null,
            "object_position": null,
            "object_fit": null,
            "grid_auto_columns": null,
            "margin": null,
            "display": null,
            "left": null
          }
        },
        "43044495b6fb43e5beefd37f23f4972e": {
          "model_module": "@jupyter-widgets/controls",
          "model_name": "DescriptionStyleModel",
          "model_module_version": "1.5.0",
          "state": {
            "_view_name": "StyleView",
            "_model_name": "DescriptionStyleModel",
            "description_width": "",
            "_view_module": "@jupyter-widgets/base",
            "_model_module_version": "1.5.0",
            "_view_count": null,
            "_view_module_version": "1.2.0",
            "_model_module": "@jupyter-widgets/controls"
          }
        },
        "52ca099ce9f44da4a2bae85b741a99ab": {
          "model_module": "@jupyter-widgets/base",
          "model_name": "LayoutModel",
          "model_module_version": "1.2.0",
          "state": {
            "_view_name": "LayoutView",
            "grid_template_rows": null,
            "right": null,
            "justify_content": null,
            "_view_module": "@jupyter-widgets/base",
            "overflow": null,
            "_model_module_version": "1.2.0",
            "_view_count": null,
            "flex_flow": null,
            "width": null,
            "min_width": null,
            "border": null,
            "align_items": null,
            "bottom": null,
            "_model_module": "@jupyter-widgets/base",
            "top": null,
            "grid_column": null,
            "overflow_y": null,
            "overflow_x": null,
            "grid_auto_flow": null,
            "grid_area": null,
            "grid_template_columns": null,
            "flex": null,
            "_model_name": "LayoutModel",
            "justify_items": null,
            "grid_row": null,
            "max_height": null,
            "align_content": null,
            "visibility": null,
            "align_self": null,
            "height": null,
            "min_height": null,
            "padding": null,
            "grid_auto_rows": null,
            "grid_gap": null,
            "max_width": null,
            "order": null,
            "_view_module_version": "1.2.0",
            "grid_template_areas": null,
            "object_position": null,
            "object_fit": null,
            "grid_auto_columns": null,
            "margin": null,
            "display": null,
            "left": null
          }
        },
        "45af7e00dbe74f85926ae48c3f0f487c": {
          "model_module": "@jupyter-widgets/controls",
          "model_name": "HBoxModel",
          "model_module_version": "1.5.0",
          "state": {
            "_view_name": "HBoxView",
            "_dom_classes": [],
            "_model_name": "HBoxModel",
            "_view_module": "@jupyter-widgets/controls",
            "_model_module_version": "1.5.0",
            "_view_count": null,
            "_view_module_version": "1.5.0",
            "box_style": "",
            "layout": "IPY_MODEL_7f00dae52ddc498e8aca2557c7e28ab6",
            "_model_module": "@jupyter-widgets/controls",
            "children": [
              "IPY_MODEL_12f9c01b0f3c47e288860409394a095a",
              "IPY_MODEL_967f1c06b66042c5988047d14276211c",
              "IPY_MODEL_62f6f9d9b0e44d8da3075fb3b053b12f"
            ]
          }
        },
        "7f00dae52ddc498e8aca2557c7e28ab6": {
          "model_module": "@jupyter-widgets/base",
          "model_name": "LayoutModel",
          "model_module_version": "1.2.0",
          "state": {
            "_view_name": "LayoutView",
            "grid_template_rows": null,
            "right": null,
            "justify_content": null,
            "_view_module": "@jupyter-widgets/base",
            "overflow": null,
            "_model_module_version": "1.2.0",
            "_view_count": null,
            "flex_flow": null,
            "width": null,
            "min_width": null,
            "border": null,
            "align_items": null,
            "bottom": null,
            "_model_module": "@jupyter-widgets/base",
            "top": null,
            "grid_column": null,
            "overflow_y": null,
            "overflow_x": null,
            "grid_auto_flow": null,
            "grid_area": null,
            "grid_template_columns": null,
            "flex": null,
            "_model_name": "LayoutModel",
            "justify_items": null,
            "grid_row": null,
            "max_height": null,
            "align_content": null,
            "visibility": null,
            "align_self": null,
            "height": null,
            "min_height": null,
            "padding": null,
            "grid_auto_rows": null,
            "grid_gap": null,
            "max_width": null,
            "order": null,
            "_view_module_version": "1.2.0",
            "grid_template_areas": null,
            "object_position": null,
            "object_fit": null,
            "grid_auto_columns": null,
            "margin": null,
            "display": null,
            "left": null
          }
        },
        "12f9c01b0f3c47e288860409394a095a": {
          "model_module": "@jupyter-widgets/controls",
          "model_name": "HTMLModel",
          "model_module_version": "1.5.0",
          "state": {
            "_view_name": "HTMLView",
            "style": "IPY_MODEL_0665fbfa572f479bbf8b4834e8a7dc8b",
            "_dom_classes": [],
            "description": "",
            "_model_name": "HTMLModel",
            "placeholder": "​",
            "_view_module": "@jupyter-widgets/controls",
            "_model_module_version": "1.5.0",
            "value": "",
            "_view_count": null,
            "_view_module_version": "1.5.0",
            "description_tooltip": null,
            "_model_module": "@jupyter-widgets/controls",
            "layout": "IPY_MODEL_fd5586c5c6c446df88c5ce4a8bb438e9"
          }
        },
        "967f1c06b66042c5988047d14276211c": {
          "model_module": "@jupyter-widgets/controls",
          "model_name": "FloatProgressModel",
          "model_module_version": "1.5.0",
          "state": {
            "_view_name": "ProgressView",
            "style": "IPY_MODEL_f5a60881b2b2487f823d336a7f59d484",
            "_dom_classes": [],
            "description": "",
            "_model_name": "FloatProgressModel",
            "bar_style": "success",
            "max": 1648877,
            "_view_module": "@jupyter-widgets/controls",
            "_model_module_version": "1.5.0",
            "value": 1648877,
            "_view_count": null,
            "_view_module_version": "1.5.0",
            "orientation": "horizontal",
            "min": 0,
            "description_tooltip": null,
            "_model_module": "@jupyter-widgets/controls",
            "layout": "IPY_MODEL_7ca91ceb68944b788a6f83a448ffa766"
          }
        },
        "62f6f9d9b0e44d8da3075fb3b053b12f": {
          "model_module": "@jupyter-widgets/controls",
          "model_name": "HTMLModel",
          "model_module_version": "1.5.0",
          "state": {
            "_view_name": "HTMLView",
            "style": "IPY_MODEL_eb2db5bc72ac4f039d7423520cb78f28",
            "_dom_classes": [],
            "description": "",
            "_model_name": "HTMLModel",
            "placeholder": "​",
            "_view_module": "@jupyter-widgets/controls",
            "_model_module_version": "1.5.0",
            "value": " 1649664/? [00:00&lt;00:00, 3982917.49it/s]",
            "_view_count": null,
            "_view_module_version": "1.5.0",
            "description_tooltip": null,
            "_model_module": "@jupyter-widgets/controls",
            "layout": "IPY_MODEL_2a4251b61668449590f2b7a66b0554d9"
          }
        },
        "0665fbfa572f479bbf8b4834e8a7dc8b": {
          "model_module": "@jupyter-widgets/controls",
          "model_name": "DescriptionStyleModel",
          "model_module_version": "1.5.0",
          "state": {
            "_view_name": "StyleView",
            "_model_name": "DescriptionStyleModel",
            "description_width": "",
            "_view_module": "@jupyter-widgets/base",
            "_model_module_version": "1.5.0",
            "_view_count": null,
            "_view_module_version": "1.2.0",
            "_model_module": "@jupyter-widgets/controls"
          }
        },
        "fd5586c5c6c446df88c5ce4a8bb438e9": {
          "model_module": "@jupyter-widgets/base",
          "model_name": "LayoutModel",
          "model_module_version": "1.2.0",
          "state": {
            "_view_name": "LayoutView",
            "grid_template_rows": null,
            "right": null,
            "justify_content": null,
            "_view_module": "@jupyter-widgets/base",
            "overflow": null,
            "_model_module_version": "1.2.0",
            "_view_count": null,
            "flex_flow": null,
            "width": null,
            "min_width": null,
            "border": null,
            "align_items": null,
            "bottom": null,
            "_model_module": "@jupyter-widgets/base",
            "top": null,
            "grid_column": null,
            "overflow_y": null,
            "overflow_x": null,
            "grid_auto_flow": null,
            "grid_area": null,
            "grid_template_columns": null,
            "flex": null,
            "_model_name": "LayoutModel",
            "justify_items": null,
            "grid_row": null,
            "max_height": null,
            "align_content": null,
            "visibility": null,
            "align_self": null,
            "height": null,
            "min_height": null,
            "padding": null,
            "grid_auto_rows": null,
            "grid_gap": null,
            "max_width": null,
            "order": null,
            "_view_module_version": "1.2.0",
            "grid_template_areas": null,
            "object_position": null,
            "object_fit": null,
            "grid_auto_columns": null,
            "margin": null,
            "display": null,
            "left": null
          }
        },
        "f5a60881b2b2487f823d336a7f59d484": {
          "model_module": "@jupyter-widgets/controls",
          "model_name": "ProgressStyleModel",
          "model_module_version": "1.5.0",
          "state": {
            "_view_name": "StyleView",
            "_model_name": "ProgressStyleModel",
            "description_width": "",
            "_view_module": "@jupyter-widgets/base",
            "_model_module_version": "1.5.0",
            "_view_count": null,
            "_view_module_version": "1.2.0",
            "bar_color": null,
            "_model_module": "@jupyter-widgets/controls"
          }
        },
        "7ca91ceb68944b788a6f83a448ffa766": {
          "model_module": "@jupyter-widgets/base",
          "model_name": "LayoutModel",
          "model_module_version": "1.2.0",
          "state": {
            "_view_name": "LayoutView",
            "grid_template_rows": null,
            "right": null,
            "justify_content": null,
            "_view_module": "@jupyter-widgets/base",
            "overflow": null,
            "_model_module_version": "1.2.0",
            "_view_count": null,
            "flex_flow": null,
            "width": null,
            "min_width": null,
            "border": null,
            "align_items": null,
            "bottom": null,
            "_model_module": "@jupyter-widgets/base",
            "top": null,
            "grid_column": null,
            "overflow_y": null,
            "overflow_x": null,
            "grid_auto_flow": null,
            "grid_area": null,
            "grid_template_columns": null,
            "flex": null,
            "_model_name": "LayoutModel",
            "justify_items": null,
            "grid_row": null,
            "max_height": null,
            "align_content": null,
            "visibility": null,
            "align_self": null,
            "height": null,
            "min_height": null,
            "padding": null,
            "grid_auto_rows": null,
            "grid_gap": null,
            "max_width": null,
            "order": null,
            "_view_module_version": "1.2.0",
            "grid_template_areas": null,
            "object_position": null,
            "object_fit": null,
            "grid_auto_columns": null,
            "margin": null,
            "display": null,
            "left": null
          }
        },
        "eb2db5bc72ac4f039d7423520cb78f28": {
          "model_module": "@jupyter-widgets/controls",
          "model_name": "DescriptionStyleModel",
          "model_module_version": "1.5.0",
          "state": {
            "_view_name": "StyleView",
            "_model_name": "DescriptionStyleModel",
            "description_width": "",
            "_view_module": "@jupyter-widgets/base",
            "_model_module_version": "1.5.0",
            "_view_count": null,
            "_view_module_version": "1.2.0",
            "_model_module": "@jupyter-widgets/controls"
          }
        },
        "2a4251b61668449590f2b7a66b0554d9": {
          "model_module": "@jupyter-widgets/base",
          "model_name": "LayoutModel",
          "model_module_version": "1.2.0",
          "state": {
            "_view_name": "LayoutView",
            "grid_template_rows": null,
            "right": null,
            "justify_content": null,
            "_view_module": "@jupyter-widgets/base",
            "overflow": null,
            "_model_module_version": "1.2.0",
            "_view_count": null,
            "flex_flow": null,
            "width": null,
            "min_width": null,
            "border": null,
            "align_items": null,
            "bottom": null,
            "_model_module": "@jupyter-widgets/base",
            "top": null,
            "grid_column": null,
            "overflow_y": null,
            "overflow_x": null,
            "grid_auto_flow": null,
            "grid_area": null,
            "grid_template_columns": null,
            "flex": null,
            "_model_name": "LayoutModel",
            "justify_items": null,
            "grid_row": null,
            "max_height": null,
            "align_content": null,
            "visibility": null,
            "align_self": null,
            "height": null,
            "min_height": null,
            "padding": null,
            "grid_auto_rows": null,
            "grid_gap": null,
            "max_width": null,
            "order": null,
            "_view_module_version": "1.2.0",
            "grid_template_areas": null,
            "object_position": null,
            "object_fit": null,
            "grid_auto_columns": null,
            "margin": null,
            "display": null,
            "left": null
          }
        },
        "d85610bcee3440388a4506e6c3cedca7": {
          "model_module": "@jupyter-widgets/controls",
          "model_name": "HBoxModel",
          "model_module_version": "1.5.0",
          "state": {
            "_view_name": "HBoxView",
            "_dom_classes": [],
            "_model_name": "HBoxModel",
            "_view_module": "@jupyter-widgets/controls",
            "_model_module_version": "1.5.0",
            "_view_count": null,
            "_view_module_version": "1.5.0",
            "box_style": "",
            "layout": "IPY_MODEL_d6319a7753b94076a0be7e760b7ab8df",
            "_model_module": "@jupyter-widgets/controls",
            "children": [
              "IPY_MODEL_432c9d0e2bcb4717a9b25d92742117dc",
              "IPY_MODEL_eb4c111d6fe24a4885186b98ce70a8fe",
              "IPY_MODEL_0a3865ce330f469095d0ec380b973610"
            ]
          }
        },
        "d6319a7753b94076a0be7e760b7ab8df": {
          "model_module": "@jupyter-widgets/base",
          "model_name": "LayoutModel",
          "model_module_version": "1.2.0",
          "state": {
            "_view_name": "LayoutView",
            "grid_template_rows": null,
            "right": null,
            "justify_content": null,
            "_view_module": "@jupyter-widgets/base",
            "overflow": null,
            "_model_module_version": "1.2.0",
            "_view_count": null,
            "flex_flow": null,
            "width": null,
            "min_width": null,
            "border": null,
            "align_items": null,
            "bottom": null,
            "_model_module": "@jupyter-widgets/base",
            "top": null,
            "grid_column": null,
            "overflow_y": null,
            "overflow_x": null,
            "grid_auto_flow": null,
            "grid_area": null,
            "grid_template_columns": null,
            "flex": null,
            "_model_name": "LayoutModel",
            "justify_items": null,
            "grid_row": null,
            "max_height": null,
            "align_content": null,
            "visibility": null,
            "align_self": null,
            "height": null,
            "min_height": null,
            "padding": null,
            "grid_auto_rows": null,
            "grid_gap": null,
            "max_width": null,
            "order": null,
            "_view_module_version": "1.2.0",
            "grid_template_areas": null,
            "object_position": null,
            "object_fit": null,
            "grid_auto_columns": null,
            "margin": null,
            "display": null,
            "left": null
          }
        },
        "432c9d0e2bcb4717a9b25d92742117dc": {
          "model_module": "@jupyter-widgets/controls",
          "model_name": "HTMLModel",
          "model_module_version": "1.5.0",
          "state": {
            "_view_name": "HTMLView",
            "style": "IPY_MODEL_f91d3a8233cd460a81b14fa4fdfbe684",
            "_dom_classes": [],
            "description": "",
            "_model_name": "HTMLModel",
            "placeholder": "​",
            "_view_module": "@jupyter-widgets/controls",
            "_model_module_version": "1.5.0",
            "value": "",
            "_view_count": null,
            "_view_module_version": "1.5.0",
            "description_tooltip": null,
            "_model_module": "@jupyter-widgets/controls",
            "layout": "IPY_MODEL_7898e65fbbe545df83fa9f7cd700c7ee"
          }
        },
        "eb4c111d6fe24a4885186b98ce70a8fe": {
          "model_module": "@jupyter-widgets/controls",
          "model_name": "FloatProgressModel",
          "model_module_version": "1.5.0",
          "state": {
            "_view_name": "ProgressView",
            "style": "IPY_MODEL_eaa5da742265438aa4e15b85f7e10c73",
            "_dom_classes": [],
            "description": "",
            "_model_name": "FloatProgressModel",
            "bar_style": "success",
            "max": 4542,
            "_view_module": "@jupyter-widgets/controls",
            "_model_module_version": "1.5.0",
            "value": 4542,
            "_view_count": null,
            "_view_module_version": "1.5.0",
            "orientation": "horizontal",
            "min": 0,
            "description_tooltip": null,
            "_model_module": "@jupyter-widgets/controls",
            "layout": "IPY_MODEL_aaf5fdc23b6849dbb812183818e82b5a"
          }
        },
        "0a3865ce330f469095d0ec380b973610": {
          "model_module": "@jupyter-widgets/controls",
          "model_name": "HTMLModel",
          "model_module_version": "1.5.0",
          "state": {
            "_view_name": "HTMLView",
            "style": "IPY_MODEL_35fdc230ea97422e86ebcf1476b13004",
            "_dom_classes": [],
            "description": "",
            "_model_name": "HTMLModel",
            "placeholder": "​",
            "_view_module": "@jupyter-widgets/controls",
            "_model_module_version": "1.5.0",
            "value": " 5120/? [00:00&lt;00:00, 132934.08it/s]",
            "_view_count": null,
            "_view_module_version": "1.5.0",
            "description_tooltip": null,
            "_model_module": "@jupyter-widgets/controls",
            "layout": "IPY_MODEL_68c41588273542a5a120e73238a32ad3"
          }
        },
        "f91d3a8233cd460a81b14fa4fdfbe684": {
          "model_module": "@jupyter-widgets/controls",
          "model_name": "DescriptionStyleModel",
          "model_module_version": "1.5.0",
          "state": {
            "_view_name": "StyleView",
            "_model_name": "DescriptionStyleModel",
            "description_width": "",
            "_view_module": "@jupyter-widgets/base",
            "_model_module_version": "1.5.0",
            "_view_count": null,
            "_view_module_version": "1.2.0",
            "_model_module": "@jupyter-widgets/controls"
          }
        },
        "7898e65fbbe545df83fa9f7cd700c7ee": {
          "model_module": "@jupyter-widgets/base",
          "model_name": "LayoutModel",
          "model_module_version": "1.2.0",
          "state": {
            "_view_name": "LayoutView",
            "grid_template_rows": null,
            "right": null,
            "justify_content": null,
            "_view_module": "@jupyter-widgets/base",
            "overflow": null,
            "_model_module_version": "1.2.0",
            "_view_count": null,
            "flex_flow": null,
            "width": null,
            "min_width": null,
            "border": null,
            "align_items": null,
            "bottom": null,
            "_model_module": "@jupyter-widgets/base",
            "top": null,
            "grid_column": null,
            "overflow_y": null,
            "overflow_x": null,
            "grid_auto_flow": null,
            "grid_area": null,
            "grid_template_columns": null,
            "flex": null,
            "_model_name": "LayoutModel",
            "justify_items": null,
            "grid_row": null,
            "max_height": null,
            "align_content": null,
            "visibility": null,
            "align_self": null,
            "height": null,
            "min_height": null,
            "padding": null,
            "grid_auto_rows": null,
            "grid_gap": null,
            "max_width": null,
            "order": null,
            "_view_module_version": "1.2.0",
            "grid_template_areas": null,
            "object_position": null,
            "object_fit": null,
            "grid_auto_columns": null,
            "margin": null,
            "display": null,
            "left": null
          }
        },
        "eaa5da742265438aa4e15b85f7e10c73": {
          "model_module": "@jupyter-widgets/controls",
          "model_name": "ProgressStyleModel",
          "model_module_version": "1.5.0",
          "state": {
            "_view_name": "StyleView",
            "_model_name": "ProgressStyleModel",
            "description_width": "",
            "_view_module": "@jupyter-widgets/base",
            "_model_module_version": "1.5.0",
            "_view_count": null,
            "_view_module_version": "1.2.0",
            "bar_color": null,
            "_model_module": "@jupyter-widgets/controls"
          }
        },
        "aaf5fdc23b6849dbb812183818e82b5a": {
          "model_module": "@jupyter-widgets/base",
          "model_name": "LayoutModel",
          "model_module_version": "1.2.0",
          "state": {
            "_view_name": "LayoutView",
            "grid_template_rows": null,
            "right": null,
            "justify_content": null,
            "_view_module": "@jupyter-widgets/base",
            "overflow": null,
            "_model_module_version": "1.2.0",
            "_view_count": null,
            "flex_flow": null,
            "width": null,
            "min_width": null,
            "border": null,
            "align_items": null,
            "bottom": null,
            "_model_module": "@jupyter-widgets/base",
            "top": null,
            "grid_column": null,
            "overflow_y": null,
            "overflow_x": null,
            "grid_auto_flow": null,
            "grid_area": null,
            "grid_template_columns": null,
            "flex": null,
            "_model_name": "LayoutModel",
            "justify_items": null,
            "grid_row": null,
            "max_height": null,
            "align_content": null,
            "visibility": null,
            "align_self": null,
            "height": null,
            "min_height": null,
            "padding": null,
            "grid_auto_rows": null,
            "grid_gap": null,
            "max_width": null,
            "order": null,
            "_view_module_version": "1.2.0",
            "grid_template_areas": null,
            "object_position": null,
            "object_fit": null,
            "grid_auto_columns": null,
            "margin": null,
            "display": null,
            "left": null
          }
        },
        "35fdc230ea97422e86ebcf1476b13004": {
          "model_module": "@jupyter-widgets/controls",
          "model_name": "DescriptionStyleModel",
          "model_module_version": "1.5.0",
          "state": {
            "_view_name": "StyleView",
            "_model_name": "DescriptionStyleModel",
            "description_width": "",
            "_view_module": "@jupyter-widgets/base",
            "_model_module_version": "1.5.0",
            "_view_count": null,
            "_view_module_version": "1.2.0",
            "_model_module": "@jupyter-widgets/controls"
          }
        },
        "68c41588273542a5a120e73238a32ad3": {
          "model_module": "@jupyter-widgets/base",
          "model_name": "LayoutModel",
          "model_module_version": "1.2.0",
          "state": {
            "_view_name": "LayoutView",
            "grid_template_rows": null,
            "right": null,
            "justify_content": null,
            "_view_module": "@jupyter-widgets/base",
            "overflow": null,
            "_model_module_version": "1.2.0",
            "_view_count": null,
            "flex_flow": null,
            "width": null,
            "min_width": null,
            "border": null,
            "align_items": null,
            "bottom": null,
            "_model_module": "@jupyter-widgets/base",
            "top": null,
            "grid_column": null,
            "overflow_y": null,
            "overflow_x": null,
            "grid_auto_flow": null,
            "grid_area": null,
            "grid_template_columns": null,
            "flex": null,
            "_model_name": "LayoutModel",
            "justify_items": null,
            "grid_row": null,
            "max_height": null,
            "align_content": null,
            "visibility": null,
            "align_self": null,
            "height": null,
            "min_height": null,
            "padding": null,
            "grid_auto_rows": null,
            "grid_gap": null,
            "max_width": null,
            "order": null,
            "_view_module_version": "1.2.0",
            "grid_template_areas": null,
            "object_position": null,
            "object_fit": null,
            "grid_auto_columns": null,
            "margin": null,
            "display": null,
            "left": null
          }
        }
      }
    }
  },
  "cells": [
    {
      "cell_type": "markdown",
      "metadata": {
        "id": "view-in-github",
        "colab_type": "text"
      },
      "source": [
        "<a href=\"https://colab.research.google.com/github/roulupen-mldl/EVA7/blob/main/Session4/EVA7_Session_4.ipynb\" target=\"_parent\"><img src=\"https://colab.research.google.com/assets/colab-badge.svg\" alt=\"Open In Colab\"/></a>"
      ]
    },
    {
      "cell_type": "markdown",
      "metadata": {
        "id": "RsFSgYnt9_Q_"
      },
      "source": [
        "**CNN Model for MNIST digit classifier.** "
      ]
    },
    {
      "cell_type": "code",
      "metadata": {
        "id": "0m2JWFliFfKT"
      },
      "source": [
        "from __future__ import print_function\n",
        "import torch\n",
        "import torch.nn as nn\n",
        "import torch.nn.functional as F\n",
        "import torch.optim as optim\n",
        "from torchvision import datasets, transforms"
      ],
      "execution_count": null,
      "outputs": []
    },
    {
      "cell_type": "markdown",
      "metadata": {
        "id": "bx2IcYH68bgU"
      },
      "source": [
        "**Model Architecture**\n",
        "\n",
        "![Model architecture.png](data:image/png;base64,iVBORw0KGgoAAAANSUhEUgAABaYAAAH3CAYAAABAeojTAAAAAXNSR0IArs4c6QAAAARnQU1BAACxjwv8YQUAAAAJcEhZcwAADsMAAA7DAcdvqGQAAIkYSURBVHhe7d0JnBT1nf//LwgMwzHcjjJcwoCgqIAnRlDJockaTSRGY/AfE3OsF+iGNWs2YX/x7y9uXBPP6MasiflLjGg0YrIJajwh4hXBE4UBh2MgOJzDMcAg/Of9nfoONU3fU13d1f168qhHdVf3NNM11dXd7/rU59thfzMDAAAAAAAAAEBIOnpzAAAAAAAAAABCQTANAAAAAAAAAAgVwTQAAAAAAAAAIFQE0wAAAAAAAACAUBFMAwAAAAAAAABCRTANAAAAAAAAAAgVwTQAAAAAAAAAIFQE0wAAAAAAAACAUBFMAwAAAAAAAABCRTANAAAAAAAAAAgVwTQAAAAAAAAAIFQE0wAAAAAAAACAUBFMAwAAAAAAAABCRTANAAAAAAAAAAgVwTQAAAAAAAAAIFQE0wAAAAAAAACAUBFMAwAAAAAAAABCRTANAAAAAAAAAAgVwTQAAAAAAAAAIFQE0wAAAAAAAACAUBFMAwAAAAAAAABCRTANAAAAAAAAAAhVh/3NvMuIuHFTb/MuRcfiR6/xLgEAAAAAAAAoFVRMAwAAAAAAAABCRcV0EXEV0wOGnWjnhay+9jU7p2IaAAAAAAAAKD1UTAMAAAAAAAAAQkUwDQAAAAAAAAAIFcE0AAAAAAAAACBUBNMAAAAAAAAAgFARTAMAAAAAAAAAQkUwDQAAAAAAAAAIFcE0AAAAAAAAACBUBNMAAAAAAAAAgFARTAMAAAAAAAAAQkUwDQAAAAAAAAAIFcE0AAAAAAAAACBUBNMAAAAAAAAAgFARTAMAAAAAAAAAQkUwDQAAAAAAAAAIFcE0AAAAAAAAACBUBNMAAAAAAAAAgFARTAMAAAAAAAAAQkUwDQAAAAAAAAAIFcE0AAAAAAAAACBUBNMAAAAAAAAAgFARTAMAAAAAAAAAQkUwDQAAAAAAAAAIFcE0AAAAAAAAACBUBNMAAAAAAAAAgFARTAMAAAAAAAAAQkUwDQAAAAAAAAAIFcE0AAAAAAAAACBUBNMAAAAAAAAAgFARTAMAAAAAAAAAQkUwDQAAAAAAAAAIFcE0AAAAAAAAACBUBNMAAAAAAAAAgFARTAMAAAAAAAAAQkUwDQAAAAAAAAAIFcE0AAAAAAAAACBUBNMAAAAAAAAAgFB12N/Mu4yIGzf1NjsfMOxEOy9k9bWv2fniR6+x87C4dYRw130+13vY2xgAAAAAAABSo2IaAAAAAAAAABAqKqaLCBXTqUVpHeVKPtZ9PtZ7vrYxAAAAAAAApEbFNAAAAAAAAAAgVATTAAAAAAAAAIBQEUwDAAAAAAAAAEJFMA0AAAAAAAAACBXBNAAAAAAAAAAgVATTAAAAAAAAAIBQEUwDAAAAAAAAAEJFMA0AAAAAAAAACBXBNAAAAAAAAAAgVATTAAAAAAAAAIBQEUwDAAAAAAAAAEJFMA0AAAAAAAAACBXBNAAAAAAAAAAgVATTAAAAAAAAAIBQEUwDAAAAAAAAAEJFMA0AAAAAAAAACBXBNAAAAAAAAAAgVATTAAAAAAAAAIBQEUwDAAAAAAAAAEJFMA0AAAAAAAAACBXBNAAAAAAAAAAgVATTAAAAAAAAAIBQEUwDAAAAAAAAAEJFMA0AAAAAAAAACBXBNAAAAAAAAAAgVATTAAAAAAAAAIBQEUwDAAAAAAAAAEJFMA0AAAAAAAAACBXBNAAAAAAAAAAgVATTAAAAAAAAAIBQEUwDAAAAAAAAAEJFMA0AAAAAAAAACBXBNAAAAAAAAAAgVATTAAAAAAAAAIBQEUwDAAAAAAAAAEJFMA0AAAAAAAAACBXBNAAAAAAAAAAgVATTAAAAAAAAAIBQEUwDAAAAAAAAAEJFMA0AAAAAAAAACBXBNAAAAAAAAAAgVATTAAAAAAAAAIBQEUwDAAAAAAAAAEJFMA0AAAAAAAAACBXBNAAAAAAAAAAgVATTAAAAAAAAAIBQEUwDAAAAAAAAAEJFMA0AAAAAAAAACBXBNAAAAAAAAAAgVATTAAAAAAAAAIBQEUwDAAAAAAAAAEJFMA0AAAAAAAAACFWH/c28y4i4cVNvs/MBw06080JWX/uanS9+9Bo7D0uU1lGu5GPd52O9h/k83fPLh7BfQwAAAAAAAEGgYhoAAAAAAAAAECoqposIFdOpUTFNxXQuuOd3+2PX2nkYZpx/q51TMQ0AAAAAAKKIYLqIEEynRjBNMJ0LBNPIltt2ooRtDgAAAAAQBFp5AAAAAAAAAABCRcV0EaFiOjUqpqmYzgUqppEt9tsAAAAAgFJFxTQAAAAAAAAAIFQE0wAAAAAAAACAUBFMAwAAAAAAAABCRTANAAAAAAAAAAgVwTQAAAAAAAAAIFQE0wAAAAAAAACAUBFMAwAAAAAAAABCRTANAAAAAAAAAAgVwTQAAAAAAAAAIFQE0wAAAAAAAACAUBFMAwAAAAAAAABCRTANAAAAAAAAAAgVwTQAAAAAAAAAIFQE0wAAAAAAAACAUBFMAwAAAAAAAABCRTANAAAAAAAAAAgVwTQAAAAAAAAAIFQE0wAAAAAAAACAUBFMAwAAAAAAAABCRTANAAAAAAAAAAgVwTQAAAAAAAAAIFQE0wAAAAAAAACAUHXY38y7jIgbN/U2Ox8w7EQ7L2T1ta/Z+eJHr7HzsERpHeVKPtZ9PtZ7mM/TPb/bH7vWzsMw4/xb7Tzs1xCCxX47NbeOooTXJQAAAACkRsU0AAAAAAAAACBUBNMAAKDgqaq80CcAAAAAQPoIpgEAAAAAAAAAoaLHdBGhV2lqUVpHuUKP6eC550ePaWSK/XZqrCMAAAAg/2pWbTDz/15rXvz7ClO/aYep37zD7N6z17u18JV16WQG9OluBvTtbiYdf4SZfPxwUz2kn3cr8oWKaQAAAAAAAAAH+fjjfeY//+c586VrZ5vbZy8wi5asNWvWb41UKC36ffV76/e/Y/bfmp/PA/Z56fkhf6iYLiJUlaUWpXWUK1RMB889PyqmkSn226mxjgAAAID8WPBGrfmvXz9vVq7dYq8fN96Y6pH7zaGVxvToaUznznZxJDQ1GbN9uzEf/cOYmmUdzJuLWpYfUdXXfPfSyea0CcNaFiBUVEwDAAAAAAAAaHXbAwvMVf/3cRtKDx1mzGXf2W/+6dz95sgxxvTpG61QWvT79ulj7O+v56Hno+f1Yd0m+zz1fBE+gmkAAAAAAAAAliql73/8dXv5jCn7zVe/tt9UHmavFg09Hz0vPT/R89XzRrgIpgEAAAAAAADYnstq3yEKbU+dZC8WLT0/F07redNzOlwE0wAAAAAAAADMf/36hdb2HcUeSjt6nnq+et56/ggPwTQAAAAAAABQ4mpWbTQP/eVNe/lTZ7VUEZcK93z1/GtWbbCXkXsE0wAAAAAAAECJe/HvK+z8uPEtPZhLiZ6vnrfM/zu9psNCMA0AAAAAAACUuPl//9DOq0eWVrW04563C+iRewTTAAAAAAAAQImr37TDzg8tsWpp59DKlrlbD8i9DvubeZcRceOm3mbnA4adaOeFrL72NTtf/Og1dh6WKK2jXMnHus/Heg/zebrnd/tj19p5GGacf6udh/0aQrDYb6fGOkrOrZ8oYb8FAABQmE7+yl1m95695l+/v9907uwtLCFNTcb81487mLIuncwrv7vKW4pcIpguInx5Ty1K6yhXCKaD554fwTQyxX47NdZRcm79RAn7LQAA8OTflpolKz4yS5avN0s+rDcN23d5t+RfRY+uZswRA8yYEZVmzPBDzVmfGOXdUvzcZ8vv/0fpRoU//lEHO+czazho5QEAABBxCu4LfQIAAHj5zZXmS9fONt/72Z/N/Y+/bl55e3VBhdKi30e/l34//Z76ffV7AwgeFdNFhKqy1KK0jnKFiunguedHxTQyxX47NdZRcqwfAAAQFbc9sMCGvTK81wozus/7ZnCPNWZwz9WmR+ftdnkh2N7Uw6zeNtis3j7IvL95tFmxdbhdfukXTjDXXHKavVys3GdLKqb5zBoWKqYBAAAAAACQM/5Q+rND55npx91pPjPkaTOm75KCCqVFv49+L/1++j31+4p+fz0PAMEhmAYAAAAAAEBOqA2GC6UvHPmwOWvok/ZyVOj31e8teh609QCCQzANAAAAAACAnLjl/vl2rsrjiYcvtJejRr+3q5x2zwdA+xFMAwAAAAAAIHBP/m2pqVm1wfaUjlqldCz9/noeej56XgDaj2AaAAAAAAAAgVuy4iM710CHxcA9D/e8ALQPwTQAAAAAAAACt2T5ejsf3GONnUedex7ueQFoH4JpAAAAAAAABG7Jh/V2PrjnajuPOvc83PMC0D4E0wAAAAAAAAhcw/Zddt6j83Y7jzr3PNzzAtA+BNMAAAAAAAAAgFARTAMAAAAAAAAAQkUwDQAAAAAAAKAodO9SYU7dP9ac8h8Pm87bGr2lKEQd9jfzLiPixk29zc4HDDvRzgtZfe1rdr740WvsPCxRWke5ko91n4/1HubzdM/v9seutfMwzDj/VjsP+zWEYLHfTo11lBzrByhM7rWJzLB/AIqP2x/eNjm870q5ds2LxftdzP29vv8f0Y8KFU5PMuPN/i+eZ579n8tNU89y75bkfvyjDnbOe1I4qJgGAAAAAAAAUDR27Gkwmyq7mqZjxpiq597xlqLQpB1ML1iwwHTo0MGcffbZ3pLsXHHFFfZx/JMeOx73f/on/Xy29LvHPt6KFSu8W9t66KGHDrrvzTff7N0KAAAAAMnpbAam1BMAAEE7afBZpsd3rjErju1vas/lvaZQpRVMKwyeNGmSdy17CnYVBKt7iJvOOuss+9gKgv10Xct/8pOftN53/vz55p577skqHNdzGD58eJv/e8SIEXaKDcb1e37lK18xv/vd71rvq8vf+9732hWMAwAAAAAAAMjeyP7jzeeO/LoZ0L3KW9KiW5cKc/rwqeac0ZeZvut3mc5vLzF1Z471bkUhShlMq1JYYbCC2fa67rrrzLx587xrLe6++247v//+++3c0XWFxvoZ57TTTjOXX365efLJJxNWOiei/8f9X477Px988EE7d+69914bmF900UXeEmMva5nWBQAAAAAAAIDwbWn8yBzSsZOZfMT55uTBLcWrCqs/M/KrprLHEFO/o87MN4tMhz/MNVO+eQ8DIBawpMG0C3+XL1/eJqSN5dpzxFY9u+XJQmRVMUtNTY2dO7qu/zcV154jturZLU9m4MCBdh77++n/jf19AAAAAAAAAOSXguc/LvmlWb99pRnaZ4z5/JhvmfEDzzAf79trFq76s3ll9Tx6TEdE0mDatb5w4XEirhJZ7S8cBcWqLlaFc6qfl+rqau9Si29/+9t27m+dEe8x3f996aWX2rkoIFdVtdqApCP299PjK5z295TO9DEBAAAAAAAA5MYba583G3euM+Wde5g9H+8yzyyfY1Zv+cDeRo/paEh78MNUXKsPFyS7oDi2fUYsV2U9ZcoUO3fUwsO1zlDlsyqg1XNay/yPqVBZYbE/SFZAHtsGJJ7f//73dj558mQ7d/T4+nn1lHb/tx5TgXWqxwQAAAAAAACQO651R79uh5v121fZZZ8d9TUztvJU071LBT2mIyKwYNrfg1lBroLidPpSuyrreIGv+lErDBZVK0u8oFs/64Jk/d8S27M6ltp36P76uXhtStTKQ89Hkv3fAAAAAAAAAMIxuPeRbVp3vLDiUfPUst+aDTvXmqMqTzYnDPp0TntMu/bBsW2Fs5WoRbKfinF1H/+U6fh7hSiwYFpccKsgV6Fusr7U4kLkeAG2/rhayQq6FXJrEgXJ/vYejgui9X8rzNZAicl85jOfsfN4AbY2BP3feiy1Mpk/f75drmX+9h4AAAAobOOm3ha5CQBQmlzYFBS1TNXjJQuvXMDmptg2q8hcOus9E+mEoC7Y9E/FbuXmJbbPtGvdsXNPgw2oF6193l7PRY9p/U21bl0BaxD0eMo+k9HfV8W1yieVU2pS7qqMNOrhdKDB9Nq1a71LBw9mGEsrVX9IteGIF2CrbYdWsOtxrcmteP3BYo8irFmzxrt08GCGsfSidhXdsQG2flZV3Pp/9P+J7qPLrio7qCMiAAAAAACgtLniuKC4Qj9X4JeIAlRXkOcm/QzhdHbSXe/pSjcEVcblijrd31H5VZDbVKFRGK0BDuNZtmGRDaiD7jGtQlWtV01BjD/nf90n6zih7Up/X/2f/gzTFQfHK96NkkCDaddXOrbncywt10pN1LPZhc5uAES/H/zgB3a+alVL/xjH9ZXWY+pFGxtcO6kCcdd32j+YonPjjTfauT8EBwAAQOEbMOzEgp8AAKVHoaIb08q1E20PZR5ufC7XGjUe5TLKbdwZ4o4CsmR5DuJLd72nK90QVNmXMi793VTQ6bjuAFEPLVNRSw/1mo6dqvuPC7zHdG1trf3bJivEdQcTYg/uuOX+v4dyTX9RbCIvvfSSnX/pS1+yc0d/b/18qgMXhS6wYNrt1PRi8Pd8jq1e1otGy7XysunZHC8Udn9YvfDcY7re1X6pAvFUYsNwAMhW16FDTdX06Wbs3LltJi3r1fyBBgAAAEDxU8ilHCVZPuIqcRVi+7nl/hBZGYyCTI3Zlcyzzz5rc5vYs8hdAZ9uj4JDR11oxn5+rjn5a0vNpCt3mDNm7G+dJl622pzw1TfNyDPuNF17DvV+IjfSWe+Z/B3TCUHlxRdftPPYwkv9XfX3feqpp7wlxef04VPNxCGfs72mY6dR/cYH3mNar9FUOabC4njFui63nDlzpp2LcslUr1Nxr0X/gQfHLYvNXqMkkGBaK8CFze7FEO/ojF5srrI52crXY7hgWz/j5wJnFyzrdhc2ux2qK4H3/9/pBuLucfX/+P+w7jnq94pXaQ0AqSiMHv3AA+aU1avNyc0fNKpvv930O/fcNpOWjWv+cKH76L76GQAAAADFScFjqoxBWYcyj9izw92Z3v7CO2Ut6RTi6bEStexQ7pEqEM03hc2f+M4Gc9RnHzJ9hnzKLtu86q9mw4onWqemXZtM5659TdVxV5lTvlFrJly40PSqyk0RUDrrPZO/YzohqCh41t8rHv19FZAWowHdq0xljyFmbcNys3HnOtPYtN32llbfaXl7/Us56TGdDv0dXaapLNFVtSuwjhcup5LOa9HfWjlqkgbTWoE6auMm0cp011367wJg/4sm3gvOtcLQC8P/uLGPJ1rx+nmdCuG/T2yZu3sB+/9v7dR1PwXWLth2LUD8v79/8u8U9Pj6eW1I7nZd1u9T6DtnAIVp2A03mBPfe88MOP98s3vNGlN3113mveZ91QvN+xf/VDNjhr1N99F99TP6WQAAgFSe/uknzBcnHe5dA1BMXObhivWUn7iz1jPlL8JLpJADzUHjppvDjv6G2V6/2Lz3l4vM/J93N6/8ZpR554/ntZle/+1xZuF9g83Lvxpm6t68y3Tu2s+M/tR93qPkR5B/R0nn75TO3ztqepcfaucLap8wu/fuNB/v22t7S6vvtILqUf3HB95jOhP+Yl1XoJvOAaNS1GF/qmYmiAw3insUehTW175m54sfvcbOwxKldZQr+Vj3+VjvYT5P9/xuf+xaO49H4XKnPn1MzdVXe0vSU33nnXYe+3Mzzr/VzsN+DSFY7LdTYx0ll6v1c8zwClNd1d271rwPqtth3l7R4F3LDttQavlaRwheLre7r509xIwYeOD16Tfx6L5mycptZsv2Jnv9kefr2v3aDQPbfrDc9of8ymZ7VosHFdMlimlUUKeQS4V0up/myc5GVyimgj2Fl/5KTQWVCsoS/byrtA0iLnLb422TE39XyoZac+zattK7lj5VTG+ta9tXO1PXvJj8u1ii9e5k+ndUeK3qW/UDd50CHFdIGa+I0m1PiX6PeNzf6/v/UdhRofpIq2XHw2/dak4efLY5vOII8/i799jbTht2runddYDZu6LG7P/ieebZ/7ncNPUst7el48c/ainMTfYaTvY3cdx2IMnuJ26b0AGK2DMokr0e3f+R6vELWaCDHwIA4qudNSvjUFr0M9n8HABkorJPmbnqi8PNL2aOM3+6aaL52ZXHmCu+MLx10nVVYup23U/3B5AfZ47vbwPoeJOMGdqz9br/ABOA6HNnhytslHRaPRSrbEJpaW8oHQT+ju2n6mhVSY+tPNWs2PS26XJIVxtI63plj6Gmce+OwHtMZ8pfqR5vvLx0JWq54zdw4EDvUvRQMV1EqAhKLUrrKFeKqaIvmTCfp3t+ySqmg0bFdHFgv50a6yi5INbPDd8YYyaM7G3KunQ0dRsazar1jWb52h2mYUdLxaVU9S83h/YpM0Mqy+3l3Xv2mTeWbTGzftXSxy8dbEOp5WsdIXi53O7umH6sGX54d/PIC3XmN/PaDs6uA0h3P77C/GH+Om9JNGSz7buKz0SVgk5sj9VUlYnpULtItZwM4rEk3eeSLrf93d2VdnD5cMWuWXaezb48VcW0+LfpVFWSySp3VWmbaBt2QViQ22PQFdOOek33qppsyntXm0M6dfOWGtO4ZZnZsWmJqXl+etYhdiLtrZiWTP6Oyapzk/2t0tmeYrm/V6FXTIsqpTsf0sW281AoPbCipdf2no93mb81L6vfUZdVO48gKqZdBbT6Sut+kuzvkKxiOtn2pL+x/vZBvFbzhYppAAiRGwBx7Ny5dt6r+UtNrJOWLrW3A9k6Y1x/22PUTVS3tqX14V8/Wl+lrHpQDzPv1fVm2o2vm0tvesOGzQq7FGy56a4/rLDLdbvup/sfPazCewQAYZp+x1tmwdsbzQWnV9mzGEpxH69AQCFuKgreRGGAJn2pV0ijL/LZUkCgUDoo6T4XQLS9aDtW2CVuzK1sJDsQov/jM5/5jHetcB13/l/twIZlPapM45aa1kEPN69+xt7ef/i5ZvyXF9i2H4UkyL9j7ME3P/19dfChWKmftEJp0fy55Q+bhav+bFt6ZBtKB0Uhs15j6ivt+ofr/SMbkydPtvPf//73du7ooKbe06LwWk2GYBoAQqJQetyCBaZy2jTT79xz7fzYefNa+0gD2VI/4H+7eJS5//oJtlru3y85sk0bhtk/OMG2Z1CVnXqTliI9bz3/R2842a4P//rR+tJ6e3DWiXY9an2WkotveM0Gz+s37/aWJKf76f5TZ73iLQEQtv98cKm5/pfvmrLOHc19100oqX27QhhVnynQSRbougDgqaeesnNRpZl+Tl/kVZ2WKQXdqlrLdpCyWOk+F0AUQml7UdCosEvbjQJJhZzZUJiln9cZAH7uteHCsEKlsLnP4E/aIPpvv+hvBzp0gx6++din7GCIGhixU9e+5ohTb/R+Kv+C/jtOmTLFzmP3afq76nHd7aVAYfTqLR/Yy927VJi+63eZzm8vMXVnjrXLwuLef9wAiK51i94/Yl9v6XA/r+1G24/jAumot4IhmAaAkAyaOdOUDRpk1s+ebV4ZNszUzJhhGmtqTNVVV5nxCxd69wLSpyo5ha3q/3vaMf3M7qZ9ZuG7m+xp3P7pmb/Xm/dWNpj+vcvMtE8PtuFsqYQYep56vnreev7L1243cxesa7N+Zj+92q63bTub7HrU+tR6pdIcQCHToIY6i8FfPV0KFLTo1GkFOskokNYX+djTnr/0pS/Z+YsvvmjnChAUOMeGOm65CwHcXP9/7GnWfuk+nqT7XABxYZcLobTd6IBGbFiVLvc4/mpdPY4blC/Zdl4I+o84z84VRCfy0dI5pmHdQlNx2MnekvwL+u/ofl5/Nz+d2aHlhbB/Gdz7SO9SsLp1qTATqs60bTxipyMHHB94j2m3H9ekv5doPbtlouBZAfTll1/epsVHvNebDka4n3V/P83dMv/2oJY7el3qb+pu18HNTNq0FCqCaQAISdchQ8zuNWvM+5dcYnatXGnq7rjDvH7ccaburrtMxSmnEE4jYxrgqqJ7JxusnnP9QvOdWxbbdgv+FgyaVFl33X+/aytj/+Xnb5t3axvMqWNbBskqdseP6m2fr563nr/Wg6p9/etHbSu03rT+tB61PrVeS2UdOa7Fib9iXMG+KvEVeOk2FB996XFfblJxX4T8UzZfov38X/La+1gS9ONFgb96uhToS3iyXqyiv71C33i9Xd0yt324sMAf6viDBXd/zfV/x3tMv3QfT9J5Lih+2v+6/Zaq+cVdd21ndKBDt6m61r8NuYpMF3aKfsb9vLY7cWFW7L7etbhx99f99H8E0Ts9LIXSpiOd9Z7J3zGdENRRyw5/YKlJ+5tC6Ds8sv94M3HI58yA7lX2ssJkR6Hyl4+91k6nD5/qLU3fJ0dcaKr7jbO9pWOn/t0HmR17Gsymyq6m6Zgxpuq5d7yfyp7273rNJJpE+3Rddu8FjnsP8f9NdNDA//OxU+z7jV6X/tuj9DpNhmAaAEKyt6HB7Gs8+EhtzdVXE04jK88v3mCr5WIHv0pGFXYuhC0F6sWq56vnnS6tT61XhdalQn221Q5ArU1UMa4BERVKq9Jcgx1qoDXdVkrtAkqBKnX0RTYVfZF2X3L9X4g0xX5pyoQL64IS9ONFiaue/vR3/1ZS+65E1q5d611KzB8OxPb/dBVtscFCuoJ+PBQ3bYux+1Y3ueBJ1cu6Hlv96kIwf0AVG175p3hBZex9CqHCNh1rFt9hPt670xz1uYcShtODxk03FYdPNLu2pf9ZOVvprPdM/o7phKB+sdtRoe1vzhzxZTN+4Bnms6O+ZkNqOaLPWLNx5zqzcvMSU9ljiA2q06Uq7PLOPUzNxsXm4bduPWh6aukDee0xjfQRTCMl/wBRVEsB2dv4pz+Z8pEjba/pWP5wWvcBgDB9+9wj7FxtThYt22ImHt3XnHVSpVmxbocNujTgYf3WPebM8aUxUORVXxxuw/li/tyj6i1VYKlqK1k4rapSVX4qlA76S+6NN95oT0vVYwch6MeLAm2n8QZwda2eSn1w13S5/p06sKGqR1WQtqePdNCPByC+NW/81HTvf6w55Ru15uSvLW0zfeI7G0z16bebvbs2mQ+evsz7CeSLwuc/vX+f+Xj/XnNU5Sk2WD6kYyc7WKEGMVRA3ae80rt3al07dbPzN+qes/NY+ewxnQubtu70LhUfgmkcRB9gb/7no+0gUBoMyj9AlCYtU79O3YcPu0D66ufMMQ0vv2wOuyz+ByOF0+81f5HZt3Onra4GMqH2CwrR/H2RFVioDYPCiVIb0C8erR//+5Yuq0WF1pGCyFI2oFcXM+/V9bbNidqdqOe2lt31WMup7hrw8Mnm21U9XUz0d9fAoPps4/qKa37eaYfbcF6fe3S9GKXb29aNAD9z5kw7T8SdcpxOX11xpzP/4Ac/8Ja0FfTjFavePTrbAVy1v3d0ZoPOgNCZDkifO/Ci7Uihcnv76wb9eAAO9uHCWeatx8+2AyDG2r29zqx/f7ZZ9PBpZte2ld5S5IvC5517GsyGHXWme+eK1mBZy2T33p2m7JD0P2cu27DI7Pl4lzl5cEu7m1hq4xF0j+l8uvrHc82mrdF+DokQTKOVvqDry7k+3I4Y2MNs2LLbDpjlHyBKk76s1m1otPfRffUzBNRAehZNnGhqZ83yrh1M4fX87t1tH2ogXQrX1H5BIZrCCIUSOnioYE1BonpR3/Sto0s2nFbYqIOtWj/ufUvrYuaFI21wo3WkIFLrrJTpvd1R1bT4W6A07GjyLhUHfXbR312Dhi5Zuc1uC9o+9Hpxn3+0XNeL8XOOTvNNp7fts88+ayuqU7XscCFcOn11xVVhJ/odgn68YqV2RdpeJ4zsbfdzOtimFjwbGnbbvtNq+VSKBg4c6F1KLLbXrr/9R7x2B5kK+vEAxLe1br4dAPGV34xqM73+2+PMkicvIZTOs117Wyp9XfuOsk7dzN79e+1lv0M6dvYupe/vdc+aoX3G2P7UsYMfqi1I0D2m8+ndmvXmqv/7uNm4pfgqpwmm0eqUo/o2f+nca/7vAx+YqbNesR90NZiKf4AoTerVqdt0H91XPzNlwgDvUZCKa4niJiSnMMC/vvzVoFHWa9Ik79LB1Ooj2e2An14TCtfUZkFtGOo2NppzTz3cHDW0woYVasOgfbVccEbLB8JS890Lq231rw6sap30rygz10870gaSalGhdaQAcvzI3t5PlB5tP0cO7uldi08Bvt7zi4U+u+zes89cceti+7nmljnLbAitgN59/tFyPWd9RipVCtQU4PlHjndTbNVyun119ViSqgo76McrVtpetf1WlHeyB1i0r1O/6Ux66xcbd+AidhsVt2zKlCl27rjtS+1tdEaB266yFfTjAcjOoaMuNEdMvMG7hrCt3vKBrWz+xLBzzSerLzL9urVkIEN6H2nnWqZBEfuUH2p2NGX2vjXm0JPsXP2pYwc/PKzHsKLrMf3e8vW2crrYwmmCabTSh1p9AcukskL31c8orEZ8ClZpjZI+VTH+28WjbEWj1o2q1/zra/YPTrCnXevU6igPwjW4+cvzKatXmwEXXugtaTHshhvMie+9Z28H0nHq2JbA7KbZH9g2DBrUcFtjkw1dtV8X7avfW9lghlQWVxuGdB3ap8wGz3qv0jq578+1Nqh+blG9bVEhLrwv1QOGatNx4ug+3jVjQ1m3TpwTRvduU1VdDFRV6rYBvU70/Fatb/sc9Xrq1vUQ71rpUaCmVgTiH1RJVdSaVMXspNNXV6Gg622dqgo76McrVvo8pDNARAdSVD2tz1KlTtuOtt3YcNq1pzn11FPtXBQau+1L7W20bWu7ihdspyPoxwOQvUOPvNgcOopWOvmkyuadTdttq461DctNpw6dbECtvtLdOve0gyIe0rzsvfUvez+RmnpU9+7a3z6eelfHDn74woePFlWPaacYw2mCaSBHFDLTGiV9rq+n2hGcdkw/G6pp3cSuL61DBWz9e5fZU1UV6kcxoF59yy1mX2OjOeqhh8zYuXNtlfQJb75phv7wh2Z3XZ29PZfUi1PVbq4KLR6FDbHVcbG9PrOhL2t6rESVQ/rSFvv/KpAIQqKepU6855xsHRUSf2WcgjWFaX679uzzLpWmLdsPrA+FruIPWV04Wap+M2+VPRPKL/ZAtSryY8PqKPuo+W/eszz1aaNdOh9idu762LtWmhSqxfaivv/+++38wQcftHMnVV9d7VPjPV4iQT9esVFhg791h17HbyzbYj55/AD7mbJYzjTLhtt2/O/jep9XQOxv++IObvi3L7d9Z/MZIOjHA4CoU9X0U0sfMH/+4NdmQe0Tdq7w+Jmah8wfl/zSLFr7vHnxw8dM/Y467ydScz2q9XiuT7Vf0D2m75mzMK+T06mse9GF0wTTiMu1T3BcaKgPuBpcpZQ/5KaL1iiZ0enTFd07mdlPrzbnXL/QVn1q3cSuL61DDcx18Q2vmX/5+dvm3dqG1orRKNk6f755ddQos372bNPnU58yJ9fWmvLqantdy3V7rijk9ffsjEfB7aRJk2wFmquO02X9XHvCaZ0Ori9ryShg0IBc7v/VZQUSsb0gM6WQWVV3ieiLpJ6zKpzc/61KJ1epV6heemeTnac6oKUBsoqpDUMmFEBW9k3+vuX6b9fU7bBzHEz74GIK8B95vs6Ude7Y5vPOc4s2mGffqPeutWwXqq5/+b2W11kp0j45HtfDN7YCNFlfXYWC2p/feOON3pLUgn68YtOred+ug0b+1h36/KTPlDqoEsXPSKn4Dx7rPVuTu+4PflVBr9u0jbjb9T6v93Z/Oxj3M/5lCq0VXutn3eee2APn4n9sd8A93ccT/+Mley4ADjZo3HRzxoz9Kaf+w8/1fqI0bNpauGFlty4Vtm2H6zftaCDDTEJp0c98vG+vGVt54OyXWEH2mP7Fw6/kdXJ6HTqy6MJpgmkcRAG0a5+galR9Kbv16mNtcKj+khpMS9eRHK1RMqPnri9VqtpLl76AaV0pxI6qXR9+aD5ubDl6q0rpdffeay/ngvtCpS9FsadCx1IArUoffwWaOxU1Vagdj6tE1heuVP+3AmH/4FXuy5x+Vo+TKX0B1P8tyf5vfYHV/+0/FdydRq51Fhu+FAoFhRqo7vzJBwZ6+vkfVpifzjkQ4OhgovqOLl293VtSWh54arWp6lfeGj6LQhsFrY76byu4L+WerI7e++O1NFFrALVSKhZ67ajC1H8wQu9B/vft6qru9kydTN7Li40OCmr/m0hs+4xkfXVfeuklO9f7iAvfNLmDhnqPcftrJ+jHKzb6DKQ2TrG0zeogvn8/VyzcweN4kz8MFvfe7p9iq+7nzZtnl8duy3os//3jPZZ/cp+Z0n088f987BT7XGTus+96l4D8KoTwc1v9IvPx3p1m9/Y1ZsOKJxJOjVuWeT9RGhRWbtpaWK3XFEh/7sivm3NGX2bbdpw54svmC0dfnjRUTseGnWvNkQOOt4+jwNs/qdVHLnpMd+9dldep4yGdiy6cJpgOUCEfmUqXWiIogF6xboetvti9d58dIErVQvoSrwGitFzXS7UPJxAEf+uOvZs2mZX/7/9rOpaXm2Obv8yMfuAB717BclVn+rJz0kktA0XE48JfFwb4ffvb37Zzdx8FFvrSHxvaarm/wnnNmjU2IND/PWjQIG9p+oYNG2bnehxxIXtsFbVb7q8yWrVqlQ2X9X9nw32x9FftFRqdRaCDWo4Ct9iAVX2V44UXpUDrQmdi+NdJbNCoKtn/cz/jJYhaAujgtFoE6KCGAn2dMaXWABpcs5hom0h2MMKdqVPK3ABxsQcGX331VTufPHmynYtCY3cA0h3M9PfV1TIXuvknHXwU/ayuO0E/XrHR53a9TvX6dJMKTHQQibMbi9Pa+gbz2z8t8q4B+VMI4efWuvlm86q/mk5d+5qa56ebd/54Xtxpx6bS+nz3bo3CyscLKpw+44ipprxzD7N++yrbtqNm42KzZ+8uc1TlyQdVT6dL4bMGPTykYyf7OAq8/dNxh52Wkx7T3XoPzOskxRZOE0wHqBCPTGVqxMDutmLMVV9ce+dbdoRvDRrlvsRruUbvHz+yt72O1GiNEix94frFzHHetWiqvuOONq07amfNMi8PHmw2//WvpnLatJyE06o8TucLuqtAixcgDxnS0s/bBcTxeia6IMF/arWqg2JPwc6G+50UFsernnO/x0zf4JEKLlS91F7utPUoUlBdjFVzQdJ7XLKAspToM4DaKh01tMLcfe04c9O3jjb9K8rssiifoZKM3otdEO/nQnndXqq0DxX/wUoFw6pSVlDsqj+1jD694dB2qkG11Vtan8fVssPR2TE6iHTfdaU5Zkkp+K9fv2Bm//EN7xqQH4USfip43rtrkxl8PAPH+xVSOK3guUdZb/PWPxaYF1Y8altwvFH3nO0z3di03RxVeYp3z8zocRRyJ5peWT0v0B7ThaY1nO7SrTWcjmqxLMF0gPTiv+r/Ph75Mnr/gFkKM1Q55R80SvY0lfYgQJmgNUrwunU9xPYFjbLNzzxjXjvqKPP+JZd4S1q8c9555r3mL+DbXnvNWxK+2tpa71JiqkKW2J6J8YKEINzrtTjxt/iIrZ7T/6/fQ4F17Omz7aFTwvX/BPmYuaIDYArR/C0rRCGGq6ordTqopYNbsbTuErWwKEVqabHg7Y2297+o4j6TVktRo3Y4Loh324C2ExfK6/Zio7NL3KSDfJrc9djgVwc1/bdrn6h9rf+Ao/uZdPrqpiPoxysmX//sUFs4orMYdTajWnaoHZomnR2iMTgaGveaq8+P3x8c0XfL/S8WdDhdceREc+pvN5kjvvYTbwmKUaGEn+/Nu9h8tOxh79rBVE39/l8v866VjkL5+/QuP9TOFSTH2ty43nTv3PZ7Syb0mIkm9awOssd0oWv+eBZZHZo/aBbv+W0hGzf1Njs/akSluevfv2D69iq318Pi/v8Bw7LvnaNTAi84vcp+qHUUZKxa39im77G+vD+3qD7r08Lra1tCt8WPXmPnYQliHWVC61PVLGqN8vbyBnPqMf3sctcaRRV6V31xuDnvtMPN3Y+vCKWiMR/rPt31rjBNfV5TGVLZ8trSF7BEwnye7vnd/ti1dh6GGeffaufZPj8FuQoW9AU/toehwgCFsRp00B8Ei4IAVckpkHBVdKKgQlw/ZgUYiYJcnQ7uBlb0P0YiqohW+Bzv/u6x3P+r55SsMtv9/jotPJ3g3K2LdO+fqaD3SXoNqf2SAguFimpBoJBt2qeH2IBRvXKzbUtQLPtthY22JcWGRtuHWwMjfvfCalt1qLOBbpr9QdaV04W8f82EtiOtEx081fuXDgTq8sJ3N7VrDIRC34Z0AOeGy8bYilNtC3qv1vOfdd8Se6A+DPlaRwheLl6bjj6ba9+lNk6J6HX8syuPaf28WejY9tNzz5yFbQbB+tevn26+es5479oBbvu7u+sNdh60w8/6jjni/7nJu3bArn8sN29890QbTI+d9b9m3VO/NB/+Jvmg18Xoil2z7DzR9uz+PsXi6OpKc+f3E+cf7vneNjm870q5ds2Lib+L6XWaT24foTYPe3fvSPn3ieX+Xt//j2CiQrXcUGuNP71/n9m5p+1n7NOHT7XBtKqnM2V7SA/6jHn0nTu9JQd8svois3dfk63IzqbH9I9/1PLd1v/3zeX7ejb2fdxktn60LKu/caEhmA6Q/w0mH+F0UC8UnRr40tsbW0NnfbDVh1/3pUwhh6p/VY0RpS/vEvbORKf+Hj2swkyd1fLmoC+9OrVSX3T9/WC1zmvWbA9l0MNCDk7ctpUOhUpRDKbVW3rYjTeaThUVZm9Dgx3scOv8+d6tLU5autTsXLLEVk8nUmjBtFsuqQLnTIJpd99kgbP7fSXe7+yXSTDt7qvQO4hWIPHkap+kfY/OxnDhmub3PvFhu8KJYtpv6/T2b597hA3wdzfts6F9e0NXKeT9aybcAIePvFDXWiWtQP+0Y/rZKkxVZ2YjCtuQO7jjQumwW5fkax0heLnav0u8opF4nv7pJ0IrfGivbLb9b876vXepdKjH9NqPGkyX8l5mT+NWuyxeOO22v1wH0x/+f9ebdU/+wlt6QDbBdKKfUdX14Z/5lnnnhn8yDR/kN/BLVykF0+mEn+75lkowXSh/336Dx2UVXLrfP6hgWqaOvdps2VVvFq76c2s4rcD62MNOM2u2LrNtNzLlAu+H32r5W/gp8O7ZpbfZu6LG7P/ieebZ/7ncNPVMP5tLFkxrAMJ8Up/pYgqlhVYeOeAakKutRxR7TusLp78SWuGzv1JIo9er+oJenOmhNUr69MVJgbMmnZqaaFKAFEUKpcctWGB7SPc791w712CH1XcefJQ3n9xAg8m4XtOOa+0h6bQCSYfCc4XSkqwKWvdzXO/r9lIgrlBagXiuQulc+nnzPlxjAyhc07gBGi8gChVzYdG6eOS5lm3FVZKHcWAwKt5b2WAuu/mNNq07VGl//S/fNdt2tn3/KiaudYcOWKh1R1W/cnvgmD69xWvus4krjguZCkZU+BDbE93PtSzS5/Zi9fq7a0puUigtnct6mB59Wz6Lqec0AyJGkw5cRX1yPW4PtI0Ip63poHHTzSe+s8GM/fxc06uq5ftCMl17DjUjz7jTnPDVN83JXwtnUGMFmPmc/APk5butxwf1fzf9uh1uzhl9mfnckV83Xzj6chsq7/l4l3l7fcv4RulSz2o9xugBJ9jruhw7aVDExr07ctJjeseWurxOxRZKC8F0DvhHx4xqOJ2MAmkCjvQsX7vD9qZMpWd5Z/slA8bc/5dV9pTxYgwCBs2cacoGDbIDHr4ybJipmTHDNNbUmKqrrjLjFxZOBUjsAId+LoA+6aST7FwUDLu+0ppUvaxgt70UCovagiSiqmbXV1pc1XZ7pBuIFyqdeaA+uepj7/ri6kwNtRbCgX7bOjtD1b8K8NXaQ72nk4U8pUTtAeK1rtD7f7EOftja4mVjow3ltQ4UxOvAscaJ4PVTnFR9GsVAT22I1GJH+3aNZaKzZPyTDqhoe9b+rRQKSXofNrrkps5de5ryisrIhdPqO+2fVCUto7/7W1stLaqO1m0TfvqanXRddLuW676OLvsf75gfPeXd0kLX9Riquvbfz/2/iK41i+8wm2r/YnoN/IQZ/6UXbUit0FlBtX+acOFCG0Sf8o1aU3XcVfZnP1z4QzvPNVW25nOSQgmn31n/knlu+cNm/faW75I7m7ablZuXmGeWzzmovUcqXTv38C4ltnHnOludvSPAHtPf+fLJeZ2cYgulhVYeAXKl/Tpy6D+KEVZbD///HwR9sO3apaP98Ov/gup6T6ZzCmEixXRKeCphtEbJRBRONVdAsL1xb8Ie5goIRgzsnnT7C/N5uueXqpXH2LlzTY8JE8zLgwd7S1qoYlrhdMPLL5tFEyfmvZWHuy1eC4vq6mo79we2Z599dmtfadHPakoU6qbTykP/jx4vVWsONwiX/i/XeiPec3LSaeXh+mUn65MdlKD3STqgoxDN37pDYavroaygOllP0mSKZb+tAFo9hP2tO1wfbgU9CiOz3RdHYf+aKb1nqff/zl0fm1//ZWXcwDpdhbwNabwHna0Tr+VBqvekIOVrHZUq16935qWTzbTPBzs4bK5fm9q3a3+vg/lukFJH7wFhtYgLSjbbfq7XcVQ0Nqw32ze1hD2urYdbN4XUykOBsL8dh0Lj8sOGm1e/0/LZMtNWHrE/L/o/ttW8bt7+j8/Y67pPz+oTWntfi4LqTj36tPm5oNHKoy33fHPVykPV0/2Gn2u69hxiynuP9Ja2+HjvTtO4pcbs2PCWWfvOvWZrXdsWitlKp5VHIe2bbD61fqnZu2en97c6r/lv1c27tS33+wfZyiMR9YnuVdbPBteZStbKwzlp8FmB9ZjON/9+o5hCaaFiOkf8R6aiWjldiiPU5wKtUTKnU8aTBQA6vTyKp92rp/S+xoP3AzVXX23q7rrLVJxySkFUTiuMVWissFlBrqNezgpr77//fm9J24pl/Zz7Wd1PgxZmQ0G3fl7hcbJQWr+PuN9HQXN7K7Zd8K5APNehdK6oLYX2O+7MFu1vFEarzyia18em3fZAoH8fojDyilsX2xYW/Sq6eEtLi0Iu9a1VT1oNcKwDgDrQofd89StX9aWqM4u1rYXecxL14U31noTou+X+F83sPyYet6IQad+u8Uo0jklsyzO9B0TxcxKyo8rpsm597OWwK6cVTvsrkf3VzLFe+mrfNsHy9hWLTKcefb1rmVGIrcB59WP/5S1psemNv9jlfnu3b2oNpWXzW8/a/5eq6WAUQuWmqqfffOxT5pXfjDLP396hzTT/593N6789zix58pLAQmkEZ2jvI82Q5ildnxl1iW3lIXUNy23VdSLdu1SYvut3mc5vLzF1Z471lkZfsYXSQsV0gOIdGQuzcjoXR+b0RTUXI9QXS+VdFBVjRV88YT5P9/xSVUwPuPBCc9RDD9k2HrtWrvSWHuAqp2XjE08EXjHtKpUTia0iVrCsFh1+sW8Z/oplP1fx7KqOXaVyIq4yOtXvKPod3P1iq6Ndtbf/d4r3PPzS/R2TVYFnK0r7JPbbqUV5/+oqyXXqf//eZbbPstpa9OzW2fbjruje2VxwepVdlm07jyhsQ/rcc+UXh5vKvmVm6/YmW1mfKLDOhXyto1LlKqadeIPIZasQ9l06kBSV9nvZbPtRen/IpahUTLtlsVwldCYV0+7/T0QhuMSrqk71uwchVcV0MXDbWDohmbtvLiqm1Tu6/4jzbDgdj/pPl3UfaD5aOsdbEowoVUxn2pPY/f5hVEyfNuxcU1HWz/z5g197SxKLrZBOp2Ja4fQkMz7jARALtWK6GENpoWI6x6JeOa3w+a7HVrQJpfWFtD2hdKlSaxT1NdWXXj+dJq0qNd2OA1Slr/Wi9eOn9af1qNuipn7OHNuu47DLLvOWtKXK6fcuusjs27nTVlcHTcGvQt1EU2xrC7XZiL1PLC2LF9ZqmW5zVcd6bP/jxE6uMjrV76jJf7/Ylh36/7Tc/zvFex7+Kd3fMehQOgx6HWnfojYFOJj2JzoTSOsodl9Talx7E1VgqtpSAbSWKZRWMKszVea9ut5oQMBiodBOFeLufVlznSWmCnE9d7W/UastveeguHUp72XnxTaInFp9uLMes6HXhH7eTYV6xkTTrm0lOUm8ULoQKQxW6KyKZoXGmhRAt5fCZfd4/gnhKISQbOy5T7T2jo5HofRRn33IHDrqQm9JeHZuWZvXSYppoLxde1sG1jx58Nk2lO5bXmmv63K8SW1CdgTYYzrfijWUFiqmA5TsyFgYldO5ODKnL+ynHdPPXtYpzmrtocGiXO/SbJVi5Z0+0F/2uWFmd9M+M/vpVfaLvn/93vfn2lCqsqJS0aeQ6PppR9qqvQVvb7SnUmsdqg+seimqXYGWJRLm83TPL1XFdJDa22MahSGofZLCgqvPH2FfG+qTq0FExx5RYc477UAgoQOM1975VtYHFqO+31a4qKBx95595o1lW8zP/7DC3Hr1sfagqzN3wbp2tWyIyv41HgW0avfi3oe0v1Uoq7YATrxlmSi0bUgHJIZUlptLb2pp4aADOHrNqL2W+4yj92m1MfEvy6Vs19Hr7xw8WC1Se+L598wTz71nuveuMh06HhJowBfUa7M9Yl/X6VAbn+NH9Y7bu9rR+8lbNVvN/778j8Ba0WWz7bt1XIpSbbNu3RRKxbSrevaHxvEqodUOJLZi2v1f/vslqq6ORcV07nz1e79LOyRz22PQFdOqltaghjUvzEhYMS0aFLGpsd62+whKOhXT+dZv8LisQmn3+xdaxbR8svoi069begdct+/eYjbsXFs0PaY3bd3Z/PeL3xc86jIKpnW6GxJzpwIm+gCa63Da7UCC+gDsvoz5W3coLNQgWvqwOvvp1baCKhtRDziypcqTXLRGyUTUghMFB6pec+tL83QOjIT5PN3zI5guPnOffdecNyV31ZJB7ZP+dFNLn0TtT7R/3tbYZHqWd7Yh9XOL6s2Rg3va/XmqAzrJRHm/7d7PtD50cNC1rLAVwS/UmYYdTeaCMwfZA2HnXJ/9Z52o7V/91Fda24oL5uOF0Aqs1M4j23VUaNtQbDAde93RIMZhDSSX7TpyzxHZUcjXrffAQKtPg3ptxqMDbYd6lf7J6P0g3WBar+9zTz3chtH6rLXmo512oHPtNx219NHg02p1o7Mnyrp0tPtSHbhp7+fYbLb9b876vXepdKytbzBrP2qwVf57GrfaZfG2Vbf9FUow7e7vrvvbesQG0/7BCyX2Zx0NYtj1sBFtfl5hd4/h49sMfkgwnRuZhGRueww6mNagh9Wn3257SScz9vNzTfe+Y2wP6qAkC6bznZu5XCqdgSnjcX+v9gTTqlhWm410KEBON5gW9ZjuXX6orZge2meMWbT2ee+WtvY3/6tu6JVxGw8pxGC6mGUUTPOhNz3JPoDmMpwO+gNwLkeoj3LA0V6uEtjfGiVMUQtOFObrVNQxQ3uahh177QBl6Xz5CfN5uueXLJhW/+huY8aYlT/6kdk6P72BN9ST+vBvfcvsXLLEtvnwI5gOhz5YVnTvmrNTY4PYJ7kA0YUPrh1BWeeO5rKb32h9vdwx/VgbIhRzf+BEXOsfFzi6oFqtK1zYqH3zz648pl2VsVHbv/rFhrLajr7+2aFtDmQU2zbkgnb3OtF2MXpoj0gH05279rRzZKZL1wobTEtQ4XRQr814XE94f2gcTybBtF7fW7Y3mUeer0u7ClqvoTPH97dnm2RSlR1PvvYPUZNuX3S3/RVSj2kNjNh3wmftZdFtsRXTropa/AG1AmY3qKH/Mf3LZdc/lrcZ6JBgujC47TFXwfTLvxpmdm07ePwe57jz/2q69hwSWjCdb259SzbtH9zPtyeYVnh85IDjvWvJbWncYN5Z/5J3LX36P8ZXTTFPLX3AW3KwYuoxXcyyCqZVVYDE3AfbRNr2+TmseUdxXiDhtPv75OIDcNCiHHC0h7705qI1SiaiFJz4W3csWrbFjBjYw4ZtqnBMVa0f5vN0zy9ZMK2QecQtt5iyQYPM7jVrzM4PPrCBc+OyZd49WvQ88UTT5fDDTY9x40znfv1M08aNZtmVV9r+1H4E0+FwXwBnXjrZTPt88H3Ng9gnxatsjVf5magaNF1R3m8rmFblnz9YjHeKezanvftFaf8aj7alZM9d29Czb9RHKriXZOtIleIK93RAQhWoOjgx7cbXWw/ouIMY7TlLLBPZrqMgtwMEE07n8m/iDqSlaj/U3n1amPK1f4gafzCdbNt021+ugmkkRzDdltseczH44Rkz9pv17882S568xFtysE98Z4PZXr84tFYe+ebWd7Y9id3Ph9HKIwwnDT4r43YeBNPhymrwQwWvTImnVPwDIr5b8w9z9Y/nRmJARFVQ60upvrgic+7LrQaUUnXWdf/9rrn+l++aPU0f24pgVZ3gAPXMVdi2e+8+GxhofalaWoH+tE8PjtxgVAqWXx482A5uqGBawXPVVVeZ6ttvbzNVTptmb1NgXTNjhnmpf/+DQmmE75b7XzSz/5hdoJtrNXU77FxBRTJdu3S0bSxKkc626N2js3ctPlUIy+ZtTXZeilKFVwr2wzqIGpY7H1ve0p7sByfYVmXqQX7r1cfagxlqkaP3bbU1CCOURuEor6g0Pfq2fC4rxAERVdGsMz5O9YodUHraU80PFJPNq58xlaOnmTFnHVw126tqku0v3blrP7NxxRPe0tJQzAPlxVKf6s+P+Zb58rHXmi8cfbntQ61qaskmlEb4sgqm0X6FHE4rgNaXMVVZ6LQ+fVnXXAMCqdevwkJdR2bU+kRVKzoF2lVi6YuFqhfV97VnefwBZkqZ1svFN7zWGoRovSmg1nqMKoXMiyZOtIHzK8OG2fDZPy2ePNnepvvU3ZF4EA+Er1DDae1HVPF5wRkHzmZSVetzi9oGiDrj4MO1LaNZlxr1TtZp7y58Fu1fXnpnk3fN2PWnULLYgtdsqIo43kFoHWB1/cyLhf7eOuipylMduNnQsNseMBa129JyvQ+h9BR6OK0DRWoxk0zsfq49VJyS6gAowkEoDRzwwdOXme0b3rLhtKqnT/7aUjtNvGy1Gf+lF02P/seaujfvSjo4YrFpCaWDOSu/0J0+fKoZWDHCXl7bsNxs273Z9O46wEw+4nzTr/tA03f9LtP57SWm7syx9j4oTATTeXRwOP143sNpVakqgNaXMzcwlOvvqw+3CgS1XNd1X6RPp1omqkZTD89s+3UXK4UFiQZp03pUQB11u1autOGzf0q3/zTCpUGGROF0oYUT8r3m14PCaEevH3+Fp8KEd2sbzK//krj/XjHTPuOWOW3b5mj/4g4SOmoTBGPDWR2E1pkpCvO1/aiC2J31U2y0Heg9WAeOdbDYTdPveIv35hKncLqsWx97uVDD6WTi7eeypeKU6qru3jXky8ABFYTSgI96S7/+2+Ns+KyAumOnclPee6TZt7fRNPzjZVPzwgyz7Pm2Y/UUu5ZQOr2BKaOsW5cKU9ljiFm5eYn545JfmgW1T5hnah4yf1n6G/Px/r2muu+xZr5ZZDr8Ya6Z8s17TOdtxfcZtlgQTOdZ23B6fd7D6SkTBtiKMVUP6QuZvsgrhFY1nj7c6su9luu06FOO6uv9FLJBa5Tsqe2J1l2U9Jo0yVRNn572pPujcHQu61HQlXMKHpJV+qqqWgFGUAFFFGn9JHv+CiBp19BCAa16KmscBA2kedO3jjb9K8rssmwHPowyBfP+anuUDvWa3r1zs71cClWqGlRRZ0zGm0QHrNx1Pr/mx3lTotXKDgiLwmcF1AvvG2yev72DHejwjTkTS6pS2imFUFqqvErpV1bPs3Nn554Gs7nxI9Ov2+FmR/PlTZVdTdMxY0zVc+9490ChyWrwQwZWCV7bARHb16S+PX8fhX2xg2PFGzQq3rJMRHkQrUwpgD77pEpT1qWjrTZXv2RXhe5ouQL/MER9cC6Jt53GCvN5uueXbPDDsXPnmn7nnutdS23jE0+Yd847z7t2sFSDH35z1u+9S2iPtfUNZu1HDXbQX40hEMSAWH5BvzYUFOisl5/OqbFhtKNQTf1zNbhbstdNMsWy31bwopYmsWdkaN1psNXZT69K2Ws5kWLYv/q5sRF0wPq+P9dmvV6cqG5D7fnMo9feqWP7mvEje3tLWmhAX/WH979OJdt1lMvtoFS1d3+fq7+JzlhMdiAyER1g+Wjz7qQH6LSt6yDUG83bZyxVTOvz6pbtLX34H3m+7qDttz3ytX8oVm77Y/DD/GDww7bc9hj04IfqIT14wkzzzh8PfGfSsrLuA81HS3M7Rk8hD37YXu7vVeiDH47sP96MH3iGefitlr+Fn/pOV5T1Mxt2rs2qx3SqwQ87dGi53W/58uVm+PDh3jVkgmC6gLQ3nA7i76MQ9czxA8zUWS2jPUu8L2QPzjrRvFWzNWGrhVSKJeBIRV8eFEKrwlxV52qNop6VrjXKB6u32fWt6wqss/mikalCDk7cF/hUtM4quneKVDDddehQ0y9J0Bxr49y5ttVHIqmCafc7IRgumJYgw+mg90kKHq6fdqSpKO9kFry90e6jXeCq14z2O6W+324diLZ5n6wAX0GNQnsFhxrk7qbZH2QdthTy/jUT2o60TjQooN6zyjp3tJc12Fq2B6QlqttQpsG03su+/tmh5tjqXmZAry7e0vi0zenzlNrsKDDMdh3lYjsoZf79/MxLJ5tpn59gL2ciV38THVyr6lduB4PWazLZASO9lv/plMNat8VUnzXd+4UGnr73iQ/b3FdV0mrp194DVInka/9QrNz2RzCdHwTTbbntMehgetC46ab69NtthbQz9vNzTfe+Y2zFdC4RTOefWnmcM/oy28rDXzWt5Z8Z+VXTsHuT6bLqH2b/F88zz/7P5aapZ/rZWqJg+qGHHjJf+cpXzOWXX27uvvtub6kxN998s/ne975nfve735mLLrrIW5qeBQsWmEmTJpn58+eb0047zVsaLPd7F2p4TjBdYNoTTgfx99GXqfuum9CmMkptE1b+Y2frh1N9yP3Zlce0K0gtloAjFVX2ThjZ21x28xv2C6cLqhWI+ENVDTT12vubsw6MMlHIwYm+EOk00XTErsNYYT5P9/ySBdNBSzeY7n3YaDtH+3XueuAsh6DC6Vztk7TvUXWbQi+FEZrHhgyZKqb9tvbF3z73CBvga0wFhfbtDV2lkPevmXADHKrntmtvokD/tGP6mYbGvVkPBlho25AOxp8wum0lczyugjSd7UOfmS44vWUgUoX6S1dvN+982HDQa0/vdwr7Rw3uYQ9ai9b3Lf/9qL2c6Tpyz9G/n0L6unStiHvwMdtQWnK1f9dndQ3Wemrz69Ed+NA+3g3a6Wj7clTprEFg0wmV9fjuYJ1/v0gwHS1u+yOYzg+C6bbc9kgwHQ3u71XowbSoMlqDHzY2bTebG9ebsk7d7OCH8uKHj5mdTdvMJDM+43A6UTCtSunYUNq54oorzD333GMyiFgtgml6TBecfPecVnh6/S/ftaeXOvpS6v9CpYFPVHXXnoCjlGgQKXfapNaZAlVVXvlta2wy3boe4l0rXRo53lWX68tPoklfsIqFeklX33mnbfUx7IYbbGV1kBRSMAUz+WlArELuOf3zP7S8ThRa6DV17Z1vsc/20bp45Lk19rKrJG9vKF1MVImpA6r+nts6cKrPB9t2tpzGXwx6lHey4V2XzsG+/857db055/qFrYMnxnvtKdzTbbqP7quf6dn8+7RX065tTFlMTlChdC7pM6W2HR0gUpGI9l8bthzcnkPtYtQXftqNr9vtLN1AWY+vAab1eevoYRX2LEkGPAcAFCINeFizsWX8EwXUCqW37dliXl3zlKnfURdoj2mFu3LxxRfbeSy33N1vxYoVNsh2152zzz7bTqIwW6G0aK77a5moClv3c4/jJv/jpfN/aK5QWkaMGGHvr8cuJFRMFyhbOb1+qdm7Z6dXOZ16ZNUo/X2KqfIumbBao2Si0Cv6VG027dODzb/8/O2Ep9NHscd0PAqkq666yrvWYt/OnWbdr35laq5OPnp0uhXT7K9zq72V07n4O/lbdyiYGDGwh23F4K9+zUax7Lf91YCqMlSgo3ZKqm6ddV/7Bogs9P1rvhXiNqQzlnQwNNk4D+3pMZ2pbNfR6++0HGhBZuY+96754/NLbLumDh0PCTSUDuu1qdBYByLbs+9KxL+/FIXVVExHg9v+qJjODyqm23LbIxXT0eD+XlGomE7lpMFnBdZj2rXrSBShKiRW8PuTn/zEXHfdda3XY9t7uMB43ryW9iOJKqbd/yfu/1QArZDZ3Tfd/8P9HBXTyFqGZwIERuHfzf98tP1Q6qdWHvqSptuRnAaGUSCkoMh5btEG8+wb9d61lvWpqsaX39vkLSltCs4UEKknYiI7d31sT7+PMlVKK5Te8dZb5r3mN5EXOnSw88aaGnP4N74ReOU0cqPQKqcVUKgdjvqDqpJOVW9X3LrYVsDqgI/26aXuhsvGtJ6iropDBZIKW9SuQa2stE9GCx0o1DajnrZq5RH7eaAYaLBLHZiI+nM7YewgpiymgYe2vN6bdm8v+ErpRC797BC777pj+rFtPm8GwV89rX2m/4xKACgUZ8zY3zr1H36uKe89ss0yTSd/LfcFYMivCVVn2tYeJw8+2/aZ7t489V2/y3R+e4mpO3Osd6/s1dbWepfiy1Xg6w/CFT4riH7wwQe9JcWBYLoAtfaZ3rPTHDUivWrpXFCl3VFDK8zd145r/aCrL6Y3feto+wVetyM5faCnNUrmvnPL4qTV47pN94myw7/9bdO0caN5/bjjTP2cllGjNdd1GTRzpp2j8CmcLuvWx14uhHBa+xMFrm6f4g8W0Lw+Nu22Z2T4q19VAegC/H4VyQerK1YKn/0HLvR+r4MZCvHVA1kDRhZjcK+//dwF68yhSYLp2APK6VDQrXWog/hunenAkSq01atXB/hpj1A49jRutfOohdKiQVw12G3/3mX2wKS2Mf92ly3/z+t1on2mO5NNtxXjgSoA0bJh+VyzYcUTaU2bVj7p/RSi7nNHft18srrtAIOnD59qqvuNs+08hvYZYz454kKjOHe+WWQ6/GGumfLNe0znbbltkavq5TBUV1eH9n+FhWC6wPgHP3ShdL/e4YfSog+h6jGpHsn6oKt2E/piWrex0S7P1al8xUYf4hO1pBCtxzBaeKCwdKqoMHs3xa+S311XZ7oOaanCReFTO4/dOzfbywo1sh0IMQgKoxPtT7SvUUBd6vzhip8L8Ev1IKHCZ1VEOieO7mPPXvn0d/9mJ4X5GvjwqvML7/S/9lK/3mTv07EHlFNRYHfr1cfaz0wahFQDRusA/8wLR9rb1TpEB/h1nXCvcEQxlBZtu9rv64CkXqca5LCyb5nd7nQAJNuAWi08dMAqdhtV6K3HPnVsX28JAOTHrm0rzTt/PC+tadnzydskIhoGdK8yPcp6m6UbDhQCaVlljyFm48515uG3bjULV/3ZdDmkqzmm8tRAe0xPnjzZzhOFwmvXrrXzU0891c6RPoLpAlJIobSjL+p3PbbC9uFUuwl9SVWlqpYjM7RGyYy+xMf7QqX1p/Wo26Jsb0OD6dQ3/pc6LdftKHyFPFCWqjV1arcm9btHW6pW1X7X7X+zDW+KlXqUz3tlvXetJfx68tX1NsBGchecUWU/M+nsBQWF6v972eeG2dtUma/xEW6Zs8yUdelozj650i5HfkU1lI6l16kOtOizus4E6Fne2Z6Zlw39vGtxpLY+2meqSEUHW3TWpAasBgAgTL3LD7Xz1Vs+sHM59vBJ5uN9e20gLbptw861pl+3w7PuMR3PSSedZOe///3v7TzWjTfeaNtsuD7RrrXHqlXJx/gZOHCgdyk9NTU1rY+d7v8xaNAg71JhIpguEIUYSotr3VFR3jKIVlW/ckbnzhKtUTKj9iddOh9i14/Wk2i9af3p1PL3V263y6Jq3b33mkPKy80Jb75pBlx4oV2mua537tfP3o7CVkih9J9ummiDA0dVbqrWVO9cTeeddrjdd5cq7UP8z1/vYf9+yZE2YKnqX95a1epfh6VGB6DdAGeye0+0+/inooM1OsiZyQEJbTf6mVQHetQWROtTVawKCtXHXOMiqFWMO7CvCmxVTo8YSNCfbxq4thhCadE+TAcj9Z5w9kmVdhvLNkDWWTb+MQq0zyzr1NG2hdLZJRSpAADCtmvvTjtXlbSbK4BWEL1zz4HCro/3NZmOHToG2mNaIbAGNtSAhBqY0O+KK64wTz75pLn//vu9JS3OOussc6/ve70GJdT94nnppZe8S2116HBgcE/9vxrA8OKLL/aWZPZ/vPrqq96lwkIwXQAKOZT2t+7Qh1D1S97T9LH9cFrKX+CzQWuUzOjLvE5LfWPZFruetL78g7pFvf3J1vnzzbpf/cqUV1ebox56yJy+f7+ddz/2WFN311329iA07drGFNDkV0ihtA7YqPJS7QZEQZuqWlWt6dowKEjQAUZ3kKfUjB7aw9SsOXAw6/zJA03Djr1m2o2v2/WjuapaLzi95UNuKXrp7Y1mwsjerQdOdYaUAntH29VZJ1XawLUYvPNhgxl0aDd7QELvLy5w1vP3T3rN6Db17dVnnxEDe9ifTUWflfy2NTaZXUUe9kfRwAEVeW2/FAR9HtfBSIXRCpD1fjDv1fXmnOsX2oMi7QmQ9bPabt2BquVrt1MpDQDIG1VD7/l4lzllyOfsQIeaq1r6vfUve/do0a1LL7Nn357Ae0xfd911Zn7z93SF0wqM3fTUU0/ZQQpdtbQzb948GyS7+02ZMsVcfvnl3q0t/IG37hMbeuv/cz+v++i6//9J5//Q/bXsK1/5ir3PQw895N1SGDo0r7wDQzymMG7qbXY+YFjpVl0FLchQOui/j76gqdIiXmCqL2rbG/fa0wWzUV/7mp0vfvQaOw9LIWzD+nJ//bQj27RGCVM+1n171rtadygMUNWngiRV76TzJSvM5+me3+2PXWvnmeg6dKgd6FA9pXetWmXqH344rVB6xvm32nmi5+d+JwSje+8q0613y2lWQYbSQeyTFJ7poI0C1njXHYVrquRUG4FsRHm/rXYdq9Y3tg54GHtdtK+Z/YMTbIif7YHCqO1fY2kbUdW09rU6CKiDGTqYqrNX9J4ls59e3XoQJFOFuA2pCloHKlQ5r/Yl8Wh96POQevems224inwd8HDvVwoOP1y7s81BVQWJj7xQ12Z95msdIXhBvjaT0f5MLTverW0wjzxfZw/sB0Hb8bfPPcK+9nVWn/aZqsJW9f/sp1cFXlDBth8st/0hv9ieW7jt8bbJmX9XKlTXvJj8u1iUub/X9/8j7agwVIN7H2mOr5pi+0grlP6g/u/mnfUHqo27dakwnx31NfPh5nfMG3XPZdXO48c/aqlSzuffVwG1gugMItvIIpjOo6ArpaP094lywNEeCvRPO6afvaxTI9XaQ4NJ3fvEh6ENuBWl4EQB27RPD7Fhgb4UqVKtrHPHg77IxxPm83TPL5tgOlupgulvzorf+wqZWVvfYNZ+1NAaTAddKR3EPik2UHWhGMH0AbHPXSHh+k27Cabj0PbzuVMq7fryUyjV3tCr0LchbQOxA7qprVQ2z1nb3Lu12xK+V+ngv0I+nTHlP9iar3WE4AX92kxEBQ9BhdF+LvD2h9B6jdxw2Rh7Vo7OXgvysyvbfrDc9of8Yntu4bZHgulocH+vQg2mU1EwXVUxwizbsCjrHtME0+EimM6TXLTvyNXfRx9Cr2z+AqURvrdub7Kj9re3SiLKAUe2XGsUVUnPum+J/SKqLxMa9VyVWu2pQstEVIITF67ptHEX3Gtb1PpSRZ+CarWXSSTM5+meXzbBdPWdd5qeJ5xg+0qrYnrjE0+Yujvu8G5NLFUwjWDcM2eh+cXDr9hgukPHQwJv3xHUPkk9Rfv3LjM3zf7ABhRqO/DES+ta9yk6yKPB13RALNnrJpko77e1r1XLBrU3UcWqQsFTj+ln2wWJ9i3uzAx/lWumorJ/zZdC3oa0jUguAr5M5GsdIXhhvja1D9NAmvF6lv/8Dyuy2qepRUiiz6W67Y2lWwJ9vbDtA8XL7Q8JpqPB/b2iGkz79S4f0PxHWmy2HJlZuz6C6XBl1WN655a1TEmmVAq1p7QoDHz6p5+wH3BFcw02pz6Tqo5QIKhTxFUJhMyo9Ykq8dS6w31B0Ad6VfApLOlZHv8U4lKm9aLgyFXkaL0pVNN6LAbjFy40VVddZXoce6y93mviRFN9++3m2L/+1V5H4Wjavb1gekrHo8o19bR1/XLl3FMPtxVvCqm135YHnlpt56VG+9q5C9bZM1bUPuGE0b3t6elaP5pUKa1QWge8sg2lS4U+JxSjC86osq8fVdOnGtwwEy7wjkefsZLdDqRDr8n7rptg+0vr83rsFHsWQLqSFUvotnwfxAEAIJUtjfUZh9KFQv2sSyGUlqyC6R1b6piSTMkUcigtUyYMsH0U3RdzfVFTGwWFHjotXJPCQgXUxfrlNFfUjztRpbkq+LLt112sFEYnGuBQ6zHbqs9CMeDCC03FKaeY9bNnm/ndu5tXR42yc13v88lPml6TJnn3RCHY07jVzgsxlBbts3WQS2debNiy2w60pknUI1j7bbUMKOUgQftYDeC74O2N9rre6xwF0jrgFfX9Sq6p8l6V5cVIVaU6eCHnnXa4PYChMxHa+1lHn6N0sCj2cVRxqjBRtwPtoR7pon2Y+6zun9p7liMAAEAuZdTKQ6c0IzGd7i2JTtnLdSgdxCmDN3xjjBlSWd7ahzP2uqMvWTVrtrfpz5mJKJ8Sngv6wrqxYU8ooVEUTjVXBdk/nXKYOWJgN9tT2lGPUwVI6XzJCvN5uueXSSuPsXPnmh4TJpiXBw/2lhxw6oYNZtNf/mLev+QSb8nBaOURDtfKQ3IRShfqPike9tupRWH/2h6JBtZMV1S2IdcW4fhRve3ZYu0Z7E3vZ65ll1qhKQB3PXp1cOSnc2ravPfnax0heGG9NnXWR+xgrlHEtg8UL7c/pJVHNLi/VzG08shWIbTyKCUZBdNILtkH0DAqpYP4AKwKngtOr2odjEd9kUcP7UEw3Q4Knb/yqUE2YNWX25fe2XTQ6ZFhfqko9OBEp1CrWk1279lnqz2lS+dD7Kn3smTlNjP9jrfs5UTCfJ7u+WUaTHcbM8ZWSsc6aelSs3PJEvPOeed5Sw5GMB0OF0znqlI6zH2SwjYNaJftAbBS2G9rf92ewbwKff+ajN6HUnH74WIPpv20TXz73CPa9ZlH3ODHZV2aPws0v7epcj/eWUH5WkcIXlj7rvYObFso2PaB4uX2hwTT0eD+XgTTvCeFJatWHshMobfv8FNgqvBUp+oqxPjfl/9hq3x02dGXK30xXb52h7cEiahSauaFI21llL7Qa64egDo92L9OccDZJ1XaASL/5edvm3OuX2i/aGlSr2mFIWpJoF6wQfYAzQcNdFhWVWW6Dh3qLWmh61qu21EY/vXrpxdk+45MaRBbVW4iMb33qSq4FPWvKLMTWsJohX3qz65tYtvOJvPsG/XerdlZt2mX/XwlOuCqz1dAEFR1r9du1D8XAQCA0kQwnWNRCqWdOx9bbsNoDQalEEOVPbdefaytplLPxU8eP8DUb92TdFAUtFA7ClVHqUe3P1hVQK11SjjdlgIhra9Z9y1JWNWpCjNVTB8zItoDRq255RbzcWOjmfD3v5vRDzxgqqZPt3Ndd7cj/wYOqDBfPWe8dw0oXvNeXW/3vwq53AHB2OmR59Z49y4+CqN10NiF0YMO7WZee3+zmXbj63bQ4mwr6fU+rwEVdVBafd/VB14Hqm/61tH2QD/QXmoNo9euzjbTAOaxU6kebAMAANFAMJ1DUQylRV++rrh1sR0ESNU9quzZ0/SxvU2VrFqukBWpdet6iO0h6f9Cq2D1ljnLTEV5J8LpBNzgm4ls2d7Upvd0FO1audIsu/JKs3fTJlM5bZqpvv12O5f3v/ENezvy77wpR3uXCpcCNR04TDUdPSzaB3PaQ9Wv8dZJ7FTKNDik3q8u+czBfe9LgQZ/dn2f3cFkvV+nej9KRWcqVPUrtwelFe7roL4e+41lW+yBfsJptJdaxKl/eaJJtwMAABQqgukciWoo7eiLmL6kqkrIXy2lvr5ajvR81LweVRkVS0G1P5yOd59S5L48JfuiriBfAVvDjr3ekuiqnzPH9phePHmyqZkxw85f6t/fLgcyobNcepZ39q4hVq8ene06QnKqltZ4B4loH62AtRg98nydbR+lzznt6TMeSwP2atyO2H7S6letAPyD1du8JUB2dLBD21Oiqb0HVwAAAHKJYDoHoh5Kp0O9k6n0Te2FNzfYftxaX7FcOF3WqWProH6lTl+eVN2jKjINsHnDN8a0mXSa9X3XTbDV0o+9uNb7qehR2w4NfqjWHb0mTTJb5883dXfcYedAprQvUXsb8R9IjJ3erc1u0MNicNdjLQdUX39/S9x146ZSpxZKyQ4+ax8db8C+YuDaR6ntQex7jyadmZCNP8xflzAY1GtXtwNB0DaqA/vaXmnfAaCQVPToaufbm3rYedS55+GeF4D2IZjOgWIPpUW9p3V6KpLTF121Pqmu6u4taUtfStU2RS1SGEyyhap71INT7WMmHt23zWRPs97YaAP9ICvawjR+4ULbtqPfuefa1h3jXnzRVN95p3crkB1VXuqAzdfOHuItgZ/2xTrodeox/bwlQFs62K4Dold8YfhB7z2a1OoDKFQ6cK/e6Dqwr+1V27H6pWd7QAUAgjTmiJb30NXbiqNdmHse7nkBaB+C6Rwo9lAamVH1WbKKKFVSqWUKg0keoHWh6kUNFumfdJp1ewahyrcBF15oKk45xTS8/LJt2/HeRRfZy1VXXWUrp4FsaT9y359rTcOOJm/JwZ59o948tyiar50g6KBXzZrt3rX41KaiFPuxanC+qzI42KwQV/fXzxWLC86osmcvaRuIfe/RpO0HKER6LY4Z2tMefPuXn79tt1cd4N+9d5+59LMcrASQf2NGVNr56u2D7Dzq3PNwzwtA+xBM50CUQ2l9uI03IFTs1L+CNh7IH4Ui8dqjFLp+55xjmjZuNIsmTrRtO9RLWpe17PBvf9u7F5AdHQBLdhBMB3RK/QBYqnAxiMHuomjr9iZz9kmV5k83TbRhs2sF4J9Uja/lun32D04w5512uP25YnFo8/uKBj4s1lYlKF7HjKiw7Zy0f3MtabSvv/eJD21v/Sh+XgJQXMYMP9TO39882s6jzj0P97wAtA/BdMCiXindo7yT/RDLYHzBUYjqev65Lwc6tVKnWD7900/YoJ9TLTOjNjJqJxM1nSoqzN5NB1djapluA4B8uO6/37UD9M17db1tCeNaAfinaZ8ebJfrdlUVT7vxdftzxULttHTQnfEzEDV6TW6Jc5DInV2WqJ0cAITlrE+MMtVD+psVW4ebJ1ee5S2NJv3+eh4jBvexzwtA+xFMB+jo6kpz179/IdLtO1Qp1LBjr9mwZfdBg0L5pw0NjPCdDn3BvfXqY1t7/v3symNs5dnMC0fa21WdpS/Cus6XYQCZ0kEt9RbVfiVdOkCmg2U3//PR3pLipuep55vJPlbVwVqvpXTQUJXiaj2l93i1AlDf8rsfX9Fm0nLdXoyV5aow1Wcb9ekFomR30z7Tu0dn79oBrhhi87biObMBQHTNvLSlbeFfVp5tFq6baC9HjX5v/f7yr18/w84BtB/BdIBUKd23V7l3LbpmP73K9qojKG0/f89K9f3TqZaXfW6YvU2DHuoLvgbyK+vS0Zx9Mj2qFALFto2JNx09LLrVxeUjR5rT9+9vM2mZBkP0Lxs7d673E0Bi2qdo/+EGulKYqhDW34JBk9o06awNDe6mA2SnHdPPrFrf6D1KcdPzPHF0H9t+QvsPrQcFz7HrSMu1/tTOQtXBFd072fVbirQ+VG3p2sOkahNTDPS60Rlj+vyjs5liJ20fQCFSX3xtt/4z87SPu37akbbYJKrjcgAoLqccN9Rc+oUT7OU5y74cucpp/b76vUXPQ88HQDBCC6avuOIKU10dvVPvM9G3V3EMdKgvn3MXrLP9FhPRAFoaSAvJaR3Wb91jq8vU92/6HW/Zypb3Vja0VpvpC4Mqp0cM5FRLUTDQs/zgyp9isP7BB83GJ55Ia9r8zDPeTwGJaT+iAUF14Ovd2gbTv3eZPUMjtg2D+gFPGNnbbNvZZPfvGkhU1bGlQM9z6qxXWgYDa97/aj0oeI5dRzqrRetP+2etTx04LMV+06L1oQMdqjYvlf60L7+3yQ4el2jiMw8Klar9Fy3b0npmng6k2INr5Z3MnY8t9+4FAPl3zSWntYbTqjy+482rzVOrPm2WbBpjtjf1sMsLhX4f/V76/fR7ukpp/f56HgCC02F/M+9yTimYfuqpp0xNTY23JHyF8Dvk0ript9n5gGEn2nkhq699zc4XP3qNnYcl7HWk6pUhleU24HBUsacKPv8gXPGW5Uo+1n0m610ViwqnFSQlEm+9xgrzebrnd/tj19p5GGacf6udh/0aQrBytU9SxaufTuVub9VcMe23FbbG9l1V1WF7g+hC37+mS2evfO6USjNiYA9bOa4DrC+9vdE88nxdu9ZRqbz3t0e+1hGCF/Z2p/3aP51ymOnW9RDbM33eK+sjdXCNbR8oHS+/udLccv98U7MqOmd0qKe02neUQqX0yV+5y+zes9f86/f3m87FWS+WVFOTMf/14w6mrEsn88rvrvKWIpdo5QHkkCqsFLL626KoYm/nro+9ay3UZ1pfImBsX1MN5KPTUAFkRvsahYqxLRg4lfsArZ+PNu8+aB2VanV0PNpeNLChDhBqn/xWzVZz6jH9bDsUHTwsZgr3XOsbvQ/R1gxRoTPzdIaeihxURc0+DUChUrj7+1unmZ/8y+dsBfLJxww2FT26ercWBv0++r30++n3fPS2r5VM+44BfVqKN7aXZkc7s317y9ytB+Re3iqmFyxYYCZNmmSWL19uRowYYZfJT37yE3Pdddd514w5++yzzZQpU8yQIUPMV77yFW+psT83fPhwe/mhhx6yt/mXSYcOHVofT5djzZ8/35x2WvGchtHeygx9EVMV6gNPrbYfbtPhqqpU7ZvJaeGlVDWlU6Hfrd1mvyTEo/V+9kmV5rKbwzltPAoVfa7aU2FRPNruhh7WLeE6lTCfp3t+VEwjU0Hvk/TaURsGVbgqTPz1X1YGtl8plv22zlDRwcAV63aY5xbVJ9zPZCMK+9dsKaC9svn9Sq1Q1AomG4W+Den9WG1v/Hbv2Wfmvbo+tNY3+VpHCF4uX5s6gHLTt45Oum1qTIE1H+20B5migG0fAArD13/wsFm0ZK2Z+uX95sgSHGLjgyXGPPpwBzN+zEDz6xtb+oojt/JeMa1QWoGy8vHf/e535nvf+54Nrf207P7777f30XT55Ze3CbPT4f859zjFFEoH4Z0PG8ygQ7vZ/nT6MKtAVV/SFHT4Jw0QpNvUf1Kj1+tUX/0s4tMXgmQBqr5Q6Es+lS0HuArGRFTNl2ydAqVKrxv1Ut6wZbcd4FAVrr+YOY4zEHx+OqfGLHh7o+0n7Xop+wcNwwEKo/U5QNuQtiUNPPvGsi3ercVFf3+F0jpgoSrxT3/3b3Zet7HRHjymchqFRC07dAZesgMmT7663hw1lP0aACAzk49vKfasWXZwcWcpcM970vFH2DlyL+/BtKqWXZXzRRddZOcvvfSSnTtnnXWWmTdvnnfNmJkzZ9q5KqURHIV9F9/wmv0iplBDgbO+pLmBodykgbV0mwbsu/vxlkGlOE0cAAqDDtpooFUd8NI+euv2JnPuqYebP9000R5YLHXudHe932mQQ1VNV/YtswdlVU1NQG3sdqJ1oTBaoayqht37fRhjIeSDgr6GHXvtYKLuM43mui4XnFFl50AhGD20hx3wNhm9F5R16WiLSgAASNek44fZ+ZuLjFn/D3uxZOj56nmLC+iRewXXY1oVzbW1td61+FyQvWoVFZO5oC9iCjX0BXTaja/bL6P+SV/kdZvuE+Qp0MVGVWaqLM8k5FCLClepXmr03NW7NJMvUFq3roI/anpNmuRdOljXoUOT3g6kS/tonbXxf+5fYitBFWbgAIXUqjhU+Dh3wTrTs7zzQYMiliIdgO7S+RC7TtRmqhTe7zVg3LbGJu9aWxsadptDqZgGAAAloHpIf3PRZ4+zl//6ZGlVTbvnq+dfPaSfvYzcY/BDJKTQT1/E9GXUP6Xbf7rU0RolM0tWbrOVPe7UeoXUWjex60vrUKfda51q3apdgXqcR83gmTPNKatXmwEXXugtaTHshhvMie+9Z28H2sMduHGvFbWueG4RZ7f4qcWJ9jWqJldlsM4EeumdTd6tpUsHoFVRrtC+VNpMaVBiHZiIR8tjBy0G8kkDuFYPSn6g0bVwqqljcG0AQGb+9eunm6EDe5uVtca8NN9bWOT0PPV89bz1/BGeSAbTK1a09FPTgIgyaNAgO1+7dq2dJzJsWMspCUiPTltVmKHekqVYwdtetEbJjMIPVS0qENHpqQrRtG5i15fWoQbf2razyVbzqV1Bsh6LhWr1LbeYfY2N5qiHHjJj5861VdInvPmmGfrDH5rddXX2diBT6oOrA10ujD5xdB87+JULGunN3hLW6H1NYfS0Tw+2B8Q0gJj2JaoMpt9/SyW5Dmy4A4H+SQc7itH/vvwPU9a5o902dAaPaK7rFd072duBQrHw3U1mQK8u9sBaPHr9nnVSpW1PQ0EJACBThxzS0fzr18+wl59/tkPRh9N6fnqeouet54/wRGJtP/nkk+bss8/2rhlzxRVX2LnrSe0GMXzwwQftXDp0iH/KgQZadME2kvv5H1bY4E8UBupLvD4Auy9sSA+tUTKjL1DqYaoQTYNPxa4vBf0KkBRiRzGQdrbOn29eHTXKrJ892/T51KfMybW1pry62l7Xct0OZOrUsX3NeO/AjQZB1L5FrTwIJg44c3x/07+izA7ip/1v1PcluaBAWgc29N4/8ei+bSYdMCxGeo3oAEVVv3J79tLTP/2EnQ8/vLv9LMRrCIVEnxcVTo8Z2rP1LDN38EgHU/T6rSjvZO58bLn3EwAAZOa0CcPMpV84wV5WaPvb33Qoup7Tej56Xi6U1vPV80a4IhFMa/DDKVOm2LBZk4Lq/fv3e7e20CCK99xzT+t9dF39qv2uu+46u0yT7kNAnZyqxvRlXV/aFag+8kKdXT7zwpH2Q7DaKiB9tEbJjCo/dRAkdn0VWzX5rg8/NB83trQiUaX0unvvtZeBbKgNhfbX2m9THR3fT+fU2MBeB8DY/8Z35vgBpn7rHhvc6wBh7FSs9JlHPbUVRCv001zrgAMXKETah+kA5O69+2xA7Q4e6WCKxhS4Zc6ykjwDDwAQnGsuOc3c9e9fMEdU9bVtLu77RQfzv090MB8sMWbzZmOa4g/PUbD0+27eZOzvr+eh5+Pad+h56vkifB32xya8BcZVSs+bN8/Okdi4qbfZ+YBhJ9p5rigs/Pa5R5iaNduzHp2/vvY1O1/86DV2Hpaw1lE8qmLRFwZ9WXh7ecuAW/mQj3WfzXrXgQ+17lA48lbNVvPrv6zM6BT7MJ+ne363P3atnadDrTvGPvGE6X7ssaZx2TLz0UMPmcO+/nXTuW9fU//YY+b9Sy7x7hnfjPNvtfOwX0MIVq72SdpPn3JUXzugm9/ytTuyDqyLab+tA19nn1xpRgw8eKBDnS2UbTuPqOxfU1G1sM5Q0cHAIJXie3+m8rWOELywtzvt9zc27InsATe2fQAoXB9/vM/8169fMA/95U1vSfHQQIfqKU37jvxhzSMt+rDrH6BPp4k/+0a9dyvSQWuUzCgQUSWQ+nNrgMPZPzjBnp7qBvOJuuo77mjTuqN21izz8uDBZvNf/2oqp00zox94wLsnkBntV7SfVssFV0HnJrWxKHXa59533QTbXzp2/WhSO5RSpwOCaglTCtSPPVGfXnE924FCp+pozgIBAOSCQtt/++aZ5ve3XmKmT/uEGT9moBlU2cuUdenk3SMa9Pvq99bvP2Paac3PZ5p9XoTS+UXFdBEJujJDX97PnzzQVPUvtwP/ZFu5Gk+pV025ar3jR/W2p1zubtpnZj+9KvDqtHiiWtGnCmqFRhooUgNULXh7o/nPB5d6tx4szOfpnl8mFdNV06ebjXPnml0rV3pLDhhw4YWmS2WlqbvjDm/JwaiYLg5B75PUMki9RZes3Gb7sQc5kF+x7LcVQmq/e9+fa4uiIjgX72va3172uWGBtwIotG1In3N0EEftOhIFenq/1oFRvZ7CaIuQr3WE4OXitVnM2PYBAChNBX9YQIE0oXR+TJkwwH55r9vQaL+QaTA6BYFBBh2lSutQp9NrwEN98Vd/wFKpTsuWAiQN4vZ/7l9i26GMHtrDuyWaFDrHC6Wlfs6cpKE0kEh1VUtrCu1b2FfHpwOtGvgwjAOBUaVQuqxLx9ZBAGOnYqHPOfqMk6zKVK8j3Uf3BQAAABAs6tWR0CPP15lzrl9oAw4GTwkWrVEyoyrQf7t4lD2dWtWg/XuXmecWRX+bHHbDDeakpUvjTtV33undC0ifBj8UBqdN7KPNu82QynLvGuLRGSka/C/e9Mzfea8CAAAAEAyCaSTkKogUcGjgvtiJ3siZ0frSKeQujB50aDfz2vubzbQbXzffuWUx4X8MnT7tensqjD5xdB+z5qOd9pRrVe9nO4Bboeg1aZIZ+sMfmo7l5aasqsp06tvS19Zd1oCIQKZU3anw8IIzB9nXEA720zk1pn9Fmbnqi8O9JYils6M0uHG8KVkLpajRYKBqV5bstaLbdB8d0AAAAAAQLIJpJKQvYwoFr/jC8IMGh9LEaa2ZoTVKZjQAmdqbqJpcgyBOnfWKbeVRLAP7DJ450zRt3GgHPNxdV2ca/vY3Owji+9/4huncr5/Zs369d08gfToApv3zgF5dbF/c2BYM918/wbtn6brhsjG2TYUGoY1dP5qoNj/AHZjWGSvFeDB63ivrze49+8ytVx8bN5zWMh1Ilhfe5OAxAAAAEDSCaSR0wRlVNtzQabuf/u7fDppUOYX00RolM2pJ4KrJo14dncjeTS1tF/zUX1rV0pUXX+wtAdKnQQ9jWy/4p2JogdNe2rfEWzducu1QSlnsgelPHj/ABrQ6sBEvwI0qHRh+5IU6U1Heydx33QTzi5njWs8K0xlOWjZmaE8zd8G6ojkoCgAAABQSgmkkdGjzl09V9xbTabv5RGuUzCgw0KT1omq92PX1tbOHePeMpl2rVrW279DlHhNaKlm7Dh3auhzIlF4zsa0X/FOxHuTJhNZBvHXjJs5iMTaEVlirQFYHCDXpslqgXFlkLVC0PWgQ4rqNjfasJndWmALphsa99oydu/6wwrs3AAAAgCARTCMh9V7Ul9Biqo7Kp9gKtNiJ1igHU8WaAhJV68WurzPHRzvIX3PLLeaQ8nJTNX26WfmjH5myQYPMqRs2mAl//7tt5bG6+XYgW9rf6OCNDuKol7IGEEVb/oNetO9oSwHtvFfX20DWHSTUZQ2KePSw4tuWdBaTzs7R2WAax0DttnS5GMYzAAAAAAoZwTQS0pexDQ27W/sron1ojZIZBWmqWFNrAlXrxa6vS296w7tnNO1audL2k96+aJHZOn++qZkxw+ypq7NtPHRZy4BsKHBVC4Jpnx5sD+Kol7IGENVgomgRe9BLBww1MC1nrrRQD26dMRXrg9XbTEX3Tt614qSzm2i3BQAAAISDYBoJqZJMI9ErHIw3QJSqzJA+WqNkprqqu52rJ3exnlqvftIugK674w7z+nHHmUUTJ9rLQLauPn9EawsCHcRRBah6J2swUSqDja0g1/ua1onWjdaR1tXuvfvMpZ+NdougoGhAQL3/x9Iy3QYAAAAAQSCYRkIvvxd/YCg3PftGvXdPpIPWKJlxA5ARpAHpU8WvKlpvmv1BawsCVYDqjIwV63aYM8fTMuiYERX2TAytE9f7X+vq3ic+tMErbU+MeW9lgzn7pEob4us9S5Mua5m2IwAAAAAIQof9zbzLiLhxU2+z8wHDTrTzQlZf+5qdL370GjsPS77X0f3XTzANO/baKuB8yce6z3a9qyq/elAPc+2dmVdNh/k83fO7/bFr7TyR6jvvNId/4xumY7du3pLE1s+ebd6/5BLv2sFmnH+rnYf9GkKwgt4n6UCO2lKoCjiWXk9DKsuzboNTLPtt7YdXrW+M2z5JZwPd/fgK84f567wlmYnS/jUZBdE/+eejD6qart+6J6v9sVOq7/2ZyNc6QvDcdofMsO0DAFBaqJhGSqoeU6WUQg0NpkXFb3ZojZIZVX6q96v6cs/+wQkHrS+FS1HTdUhLm4DNzzxjNj7xRNJp22st4QSQic3bmuw8XtVv7x6dze4m2jBoHWhdxHLrzK3DUqbgWQcwNAigO0tKgb0GAyzW1koAAAAAwkfFdBHJRUWQAmkNnOWn/pJutP5slWLVlILWKRMSn0av1ihhDLgUlYo+HQC5snn7S0StUVyrgnjCfJ7u+aWqmB5w4YVm5M9/bjr362caXn7ZrLntNttnOhtUTBeHXOyTHpzV8lhPNu+n9RpR4KrBV3WgZ+6CdVnvu4tlv60DrBoYUmHrI8/X2XYeWnbWSZWmrFNHM3XWK949MxeV/Wu+lOJ7f6bytY4AAACAfKBiGgkpzFAorX6SqprSqeGa121stH0mqZzOjEJnnTqeaAojlI4SVeXFW09uShZKFyqF0C/172/q7rrLhtNHPfSQOWnpUtviAwiKeiUrYFX4qrMLfnblMTaUVl/l9hxQLBbadyxatsWuE60brSOtq4ryTubOx5Z79yo9Cue1LuJV24uW/+mmifZ+AAAAABAEgmkk9E+nHGb7IX/nlsWtoanmui6qwEPm9OWe1ijp0/rRetL60npLFJpESc3VV5tXR40yNTNmmKaNG03VVVeZSTt2mLFz55pekyZ59wKyo/20qn5nP73aVgU/8/d6e1Axn73tC811//2u+Zefv23XjdaR1tVlN79R0gcITx3bcvDCDQgZS8s1KKLuBwAAAABBIJhGQt26HmK2NcbvtbmhYbc5lEA1YwpWVaGnSnRV66lK777rJtjlOJjan2j9aD1pfWm9af3d/M9He/eItro77jCLJk40iydPNpv/+lfT51OfMuNefNGMX7jQtv0A2kOVwTq74D8fXMoZGXEoaNW6cWdglHrv5OGHdzfPLar3rsWnEF/3AwAAAIAgEEwjoZ27PjY9yw8eIEq0XLcjfbRGydzV548wDY17bTWj1pcqHBWMjB/Z23xxUtve51G2df58885555nVP/2p2bdzp6k45RRTefHF3q1AajpY8+gNJ3vXDqazDtSGoRjOOMiGa0OR7CCgenMXy0EvAAAAAIgCgmkk9L8v/8OUde5ofjFznK1cFc11vaJ7J3s70kdrlMxoW9N2dtPsD1r7SavCUdWNCvfPHJ94IMko6Tp0qG3hceqGDWboD39oPm5sNOtnzzY106d79wBSO2poRdJqV72GdJBH+6FSpOe9u2lf0h7bGixS67FU1W/dY89MSUa3630MAAAAAIJAMI2EFALOa/6iXtWv3Pz7JUfaQZE012m8cxesS9iHEvHRGiUzfXq2VOvH287Wb9ptQ+soq5o+3bbsOLm21vQ791zTuGyZ7TmtwRHfv+QSs2vlSu+eQHI6e6CsS8eUAxvWrNluRg/t4V0rLXre79Ymf89SeK/1WExnY2RC24fORklUVa71ouC+bkOjtyR66mtfK/gJAAAAKCUE00hKQYcGhFIQrRYKmqudQqoABAejNUpmNm9rCfHjtR7o3aOzrX6Mouo77zSnrF5tqm+/3ZSPHGmro18ZNsz2mlbPaQDIB52NotBZLadcWxMNOqtJ16/4wnBbda8WVAAAAAAQhA77m3mXEXHjpt5m5wOGnWjnhcxVBS1+9Bo7D0s+15EC1pu+dbTtKf27v66xbTzUruIrnxpkq9AV+IdRhZ6PdZ/telcYIjrFXtWMWodqeaLTyXWQJNkBkjCfp3t+tz92rZ0nMvqBB0zltGlmx1tvmQ1z55raWbO8WzI34/xb7Tzs1xCCFcQ+Sf3pZ//gBNuL3bW9iUevpw1bdpvpd7zlLclMlPfbClkHHdrNXHxD4opU9eHWQKvt2RdHaf+aiILoo4dVtDkrZfeefa3jI7RnkMh8bUMAAAAAChMV0ziIwos7ph/rXTuYvuC7wBDpozVK5u594kNT1qmjDYu0vn525TE2lF6yclskq/Y7VbRUf3c/9ljbT/r0/fsTTuo7DaRDQaEqXS84vap1PIBY/3bxKDOgVxezdPV2b0lp0Rk/ev6J3tt00Ouskypt/+RS3xercnrqrFfsgLN3P77CTLvxdXPO9QvtAY32hNIAAAAAEItgGm0o1NCX91/+qdZbcrCfzqmx90kUgCAxWqNkRlXlCkhUCar19czf623FXrYVn/m2/sEHzcYnnkhr2vzMM95PAalpv6z2NjrYdf/1E1pbMOhA4qM3nGw+efyAyB7QCcIf5rfsc8cM7WnXhwJqt440oK8OelWUdzJ3Prbc+wmI1hthNAAAAIBcIZhGG1MmDLCVd8kqxlx1nu6LzGn9KRxSVZrmVEqnpvYEWl//+eBSG1ZHVf2cOead885La6LfNDKh/cgVty624XP/ijJ7ZoEmDWYnCmWjekAnKNqH6CDX7r37bEDt1pHOWlGbilvmLIv0/gUAAAAAooZgGsgxWqNkxlV4JqI+sH+6aWLcQRGBUqaDXgqf1XZB7RfUhkHtGHTWgUJZtBzkUp9prRedfaEzVnT5O7csJpQGAAAAgJARTKON5Wt3mKr+5XYwrUR0m+7zEaf3pkRrlMwdNbTCPLeo3rt2MAVLDY17zT+dcpi3BEAshdRqw4DEFERzxgoAAAAA5A/BNNqY98p6O/r+rVcfGzec1jL1MJUX3qS6LBVao2Tmi5MON2VdOqbsg1uzZrsZPbSHdw0AAAAAAABRQzCNNhSSPvJCnR0E6r7rJthBodwAUWpHoWXqzalB+6g0AwAAAAAAAJANgmkcRK0SNAhU3cZGOyiUGyBKgbRaKGjwqFQVrWhBa5TMvPTOJjtXH+lkqgf1MA079nrXAAAAAAAAEDUE04hLvTc1GJQGhdLgUBokSpc1aJSCa6SH1iiZcW1NLji9KmHP7X+7eJTtyb109XZvCQAAAAAAAKKGYBopqWWHgmpkjtYomdNgkLub9tnA/v7rJ7Sur5v/+Wjz6A0nm08eP8AsWbmNqn0AAAAAAIAII5gGcozWKJlRQH/FrYtt+Ny/oqx1fY0f2dvevvDdTWb6HW/ZywAAAAAAAIgmgmkgBLRGyYwqzRU+n3P9QjPtxtfN3Y+vsOtr6qxXzKxfLfHuBQAAAAAAgKgimAZCRmuUzCik/sP8dd41AAAAAAAAFAOCaQAAAAAAAABAqAimAQAAAAAAAAChIpgGAAAAAAAAAISKYBoAAAAAAAAAECqCaQAAAAAAAABAqAimAQAAAAAAAAChIpgGAAAAAAAAAISKYBoAAAAAAAAAECqCaQAAAAAAAABAqAimAQAAAAAAAAChIpgGAAAAAAAAAISKYBoAAAAAAAAAECqCaQAAAAAAAABAqAimAQAAAAAAAAChIpgGAAAAAAAAAISKYBoAAAAAAAAAECqCaQAAgIirr32t4CcAAAAA8COYBgAAAAAAAACEqsP+Zt5lRNy4qbfZ+YBhJ9p5IXOVU4sfvcbOwxKldZQr+Vj3+VjvYT5P9/xuf+xaOw/DjPNvtfOwX0MIFvvt1FhHAAAAAFCcqJgGAAAAAAAAAISKYBoAAAAAAAAAECqCaQAAAAAAAABAqAimAQAAAAAAAAChIpgGAAAAAAAAAISKYBoAAAAAAAAAECqCaQAAAAAAAABAqAimAQAAAAAAAAChIpgGAAAAAAAAAISKYBoAAAAAAAAAECqCaQAAAAAAAABAqAimAQAAAAAAAAChIpgGAAAAAAAAAISKYBoAAAAAAAAAECqCaQAAAAAAAABAqAimAQAAAAAAAAChIpgGAAAAAAAAAISKYBoAABS8+trXCn4CAAAAAKSPYBoAAAAAAAAAEKoO+5t5lxFx46beZucDhp1o54XMVZYtfvQaOw9LlNZRruRj3edjvYf5PN3zu/2xa+08DDPOv9XOw34NIVjstwEAAAAApYqKaQAAAAAAAABAqAimAQAAAAAAAAChIpgGAAAAAAAAAISKYBoAAAAAAAAAECqCaQAAAAAAAABAqAimAQAAAAAAAAChIpgGAAAAAAAAAISKYBoAAAAAAAAAECqCaQAAAAAAAABAqAimAQAAAAAAAAChIpgGAAAAAAAAAISKYBoAAAAAAAAAECqCaQAAAAAAAABAqAimAQAAAAAAAAChIpgGAAAAAAAAAISKYBoAAAAAAAAAECqCaQAAAAAAAABAqAimAQAAAAAAAACh6rC/mXcZETdu6m12PmDYiXZeyOprX7PzxY9eY+dhidI6ypV8rPt8rPcwn6d7fvkQ9msIwWK/DQAAAAAoVVRMAwAAAAAAAABCRcV0EaHyLjUqpqmYBgoJ+20AAAAAQKmiYhoAAAAAAAAAECoqposIlXepUTFNxTRQSNxrI0p4TQEAAAAAgkDFNAAAAAAAAAAgVFRMFxEqplOjYpqKaQAAAAAAAOQfFdMAAAAAAAAAgFARTAMAAAAAAAAAQkUwDQAAAAAAAAAIFcE0AAAAAAAAACBUBNMAAAAAAAAAgFARTAMAAAAAAAAAQkUwDQAAAAAAAAAIFcE0AAAAAAAAACBUBNMAAAAAAAAAgFARTAMAAAAAAAAAQkUwDQAAAAAAAAAIFcE0AAAAAAAAACBUBNMAAAAAAAAAgFARTAMAAAAAAAAAQkUwDQAAAAAAAAAIFcE0AAAAAAAAACBUBNMAAAAAAAAAgFARTAMAAAAAAAAAQkUwDQAAAAAAAAAIFcE0AAAAAAAAACBUBNMAAAAAAAAAgFARTAMAAAAAAAAAQkUwDQAAAAAAAAAIFcE0AAAAAAAAACBUBNMAAAAAAAAAgFARTAMAAAAAAAAAQkUwDQAAAAAAAAAIFcE0AAAAAAAAACBUBNMAAAAAAAAAgFARTAMAAAAAAAAAQkUwDQAAAAAAAAAIFcE0AAAAAAAAACBUBNMAAAAAAAAAgFARTAMAAAAAAAAAQkUwDQAAAAAAAAAIFcE0AAAAAAAAACBUBNMAAAAAAAAAgFARTAMAAAAAAAAAQkUwDQAAAAAAAAAIFcE0AAAAAAAAACBUBNMAAAAAAAAAgFARTAMAAAAAAAAAQkUwDQAAAAAAAAAIFcE0AAAAAAAAACBUBNMAAAAAAAAAgFARTAMAAAAAAAAAQkUwDQAAAAAAAAAIFcE0AAAAAAAAACBUBNMAAAAAAAAAgFARTAMAAAAAAAAAQkUwDQAAAAAAAAAIFcE0AAAAAAAAACBUBNMAAAAAAAAAgFARTAMAAAAAAAAAQkUwDQAAAAAAAAAIFcE0AAAAAAAAACBUBNMAAAAAAAAAgFARTAMAAAAAAAAAQkUwDQAAAAAAAAAIFcE0AAAAAAAAACBUBNMAAAAAAAAAgFARTAMAAAAAAAAAQkUwDQAAAAAAAAAIFcE0AAAAAAAAACBUBNMAAAAAAAAAgFARTAMAAAAAAAAAQkUwDQAAAAAAAAAIFcE0AAAAAAAAACBUBNMAAAAAAAAAgFARTAMAAAAAAAAAQkUwDQAAAAAAAAAIFcE0AAAAAAAAACBUHfY38y4j4sZNvc3OBww70c4LWX3ta3a++NFr7Dwsbh0h3HWfz/Ue9jYGAAAAAACA1KiYBgAAAAAAAACEiorpIkLFNAAAAAAAAIAooGIaAAAAAAAAABAqgmkAAAAAAAAAQKgIpgEAAAAAAAAAoSKYBgAAAAAAAACEimAaAAAAAAAAABAqgmkAAAAAAAAAQKgIpgEAAAAAAAAAoSKYBgAAAAAAAACEimAaAAAAAAAAABAqgmkAAAAAAAAAQKgIpgEAAAAAAAAAoSKYBgAAAAAAAACEimAaAAAAAAAAABAqgmkAAAAAAAAAQKgIpgEAAAAAAAAAoSKYBgAAAAAAAACEimAaAAAAAAAAABAqgmkAAAAAAAAAQKgIpgEAAAAAAAAAoSKYBgAAAAAAAACEimAaAAAAAAAAABAqgmkAAAAAAAAAQKgIpgEAAAAAAAAAoSKYBgAAAAAAAACEimAaAAAAAAAAABAqgmkAAAAAAAAAQKgIpgEAAAAAAAAAoSKYBgAAAAAAAACEimAaAAAAAAAAABCqDvubeZcRceOm3uZdio7Fj17jXQIAAAAAAABQKqiYBgAAAAAAAACEioppAAAAAAAAAECoqJgGAAAAAAAAAISKYBoAAAAAAAAAECqCaQAAAAAAAABAqAimAQAAAAAAAAChIpgGAAAAAAAAAISKYBoAAAAAAAAAECqCaQAAAAAAAABAqAimAQAAAAAAAAChIpgGAAAAAAAAAISKYBoAAAAAAAAAECqCaQAAAAAAAABAqAimAQAAAAAAAAChIpgGAAAAAAAAAISKYBoAAAAAAAAAECqCaQAAAAAAAABAqAimAQAAAAAAAAChIpgGAAAAAAAAAISKYBoAAAAAAAAAECqCaQAAAAAAAABAqAimAQAAAAAAAAChIpgGAAAAAAAAAISKYBoAAAAAAAAAECqCaQAAAAAAAABAqAimAQAAAAAAAAChIpgGAAAAAAAAAISKYBoAAAAAAAAAECqCaQAAAAAAAABAqAimAQAAAAAAAAChIpgGAAAAAAAAAISKYBoAAAAAAAAAECJj/n/QwLO4GOyyrQAAAABJRU5ErkJggg==)\n"
      ]
    },
    {
      "cell_type": "code",
      "metadata": {
        "id": "h_Cx9q2QFgM7"
      },
      "source": [
        "class Net(nn.Module):\n",
        "    def __init__(self):\n",
        "        super(Net, self).__init__()\n",
        "\n",
        "        self.conv1 = nn.Sequential(\n",
        "            nn.Conv2d(1, 16, 3), # 1x28x28x | 16(3x3) | 16x26x26\n",
        "            nn.ReLU(),\n",
        "            nn.BatchNorm2d(16), # Batch normalization\n",
        "            nn.Dropout(0.1), # drop out\n",
        "\n",
        "            nn.Conv2d(16, 32, 3), # 16x26x26 | 32(3x3) | 32x24x24\n",
        "            nn.ReLU(),\n",
        "            nn.BatchNorm2d(32), # Batch normalization\n",
        "            nn.Dropout(0.1), # drop out\n",
        "\n",
        "            nn.Conv2d(32, 10, 1),# 32x24x24 | 10(1x1) | 10x24x24\n",
        "            nn.ReLU(),\n",
        "\n",
        "            nn.MaxPool2d(2, 2), # 10x24x24 | 10x12x12\n",
        "        )\n",
        "        \n",
        "        self.conv2 = nn.Sequential(\n",
        "            nn.Conv2d(10, 16, 3), # 10x12x12 | 16(3x3) | 16x(10x10)\n",
        "            nn.ReLU(),\n",
        "            nn.BatchNorm2d(16), # Batch normalization\n",
        "            nn.Dropout(0.1), # drop out\n",
        "\n",
        "            nn.Conv2d(16, 16, 3), # 16x10x10 | 16(3x3) | 16x(8x8)\n",
        "            nn.ReLU(),\n",
        "            nn.BatchNorm2d(16), # Batch normalization\n",
        "            nn.Dropout(0.1), # drop out\n",
        "\n",
        "            nn.Conv2d(16, 16, 3), # 16x8x8 | 16(3x3) | 16x(6x6)\n",
        "            nn.ReLU(),\n",
        "            nn.BatchNorm2d(16), # Batch normalization\n",
        "            nn.Dropout(0.1), # drop out\n",
        "\n",
        "            nn.Conv2d(16, 16, 3), # 16x6x6 | 16(3x3) | 16x(4x4)\n",
        "            nn.ReLU(),\n",
        "            nn.BatchNorm2d(16), # Batch normalization\n",
        "            nn.Dropout(0.1), # drop out\n",
        "        )\n",
        "        \n",
        "        self.conv3 = nn.Sequential(\n",
        "            nn.Conv2d(16, 10, 4), # 16x4x4 | 10(4x4) | 10x(1x1)\n",
        "            nn.ReLU(),\n",
        "            nn.BatchNorm2d(10), # Batch normalization\n",
        "            nn.Dropout(0.1) # drop out\n",
        "        )\n",
        "        \n",
        "        self.fc = nn.Sequential( \n",
        "            nn.Linear(10, 10)\n",
        "        )\n",
        "\n",
        "    def forward(self, x):\n",
        "        x = self.conv1(x)\n",
        "        x = self.conv2(x)\n",
        "        x = self.conv3(x)\n",
        "        \n",
        "        x = x.view(x.size(0), -1)\n",
        "        x = self.fc(x)\n",
        "        x = F.log_softmax(x, dim=1)\n",
        "        return x"
      ],
      "execution_count": null,
      "outputs": []
    },
    {
      "cell_type": "markdown",
      "metadata": {
        "id": "m0PGyLuL8iTE"
      },
      "source": [
        "**Model Summary**"
      ]
    },
    {
      "cell_type": "code",
      "metadata": {
        "id": "xdydjYTZFyi3",
        "colab": {
          "base_uri": "https://localhost:8080/"
        },
        "outputId": "4a29f134-b62d-4b4d-da58-cbd0725c3e2c"
      },
      "source": [
        "# Displaying model summary\n",
        "!pip install torchsummary\n",
        "from torchsummary import summary\n",
        "use_cuda = torch.cuda.is_available()\n",
        "device = torch.device(\"cuda\" if use_cuda else \"cpu\")\n",
        "model = Net().to(device)\n",
        "summary(model, input_size=(1, 28, 28))"
      ],
      "execution_count": null,
      "outputs": [
        {
          "output_type": "stream",
          "name": "stdout",
          "text": [
            "Requirement already satisfied: torchsummary in /usr/local/lib/python3.7/dist-packages (1.5.1)\n",
            "----------------------------------------------------------------\n",
            "        Layer (type)               Output Shape         Param #\n",
            "================================================================\n",
            "            Conv2d-1           [-1, 16, 26, 26]             160\n",
            "              ReLU-2           [-1, 16, 26, 26]               0\n",
            "       BatchNorm2d-3           [-1, 16, 26, 26]              32\n",
            "           Dropout-4           [-1, 16, 26, 26]               0\n",
            "            Conv2d-5           [-1, 32, 24, 24]           4,640\n",
            "              ReLU-6           [-1, 32, 24, 24]               0\n",
            "       BatchNorm2d-7           [-1, 32, 24, 24]              64\n",
            "           Dropout-8           [-1, 32, 24, 24]               0\n",
            "            Conv2d-9           [-1, 10, 24, 24]             330\n",
            "             ReLU-10           [-1, 10, 24, 24]               0\n",
            "        MaxPool2d-11           [-1, 10, 12, 12]               0\n",
            "           Conv2d-12           [-1, 16, 10, 10]           1,456\n",
            "             ReLU-13           [-1, 16, 10, 10]               0\n",
            "      BatchNorm2d-14           [-1, 16, 10, 10]              32\n",
            "          Dropout-15           [-1, 16, 10, 10]               0\n",
            "           Conv2d-16             [-1, 16, 8, 8]           2,320\n",
            "             ReLU-17             [-1, 16, 8, 8]               0\n",
            "      BatchNorm2d-18             [-1, 16, 8, 8]              32\n",
            "          Dropout-19             [-1, 16, 8, 8]               0\n",
            "           Conv2d-20             [-1, 16, 6, 6]           2,320\n",
            "             ReLU-21             [-1, 16, 6, 6]               0\n",
            "      BatchNorm2d-22             [-1, 16, 6, 6]              32\n",
            "          Dropout-23             [-1, 16, 6, 6]               0\n",
            "           Conv2d-24             [-1, 16, 4, 4]           2,320\n",
            "             ReLU-25             [-1, 16, 4, 4]               0\n",
            "      BatchNorm2d-26             [-1, 16, 4, 4]              32\n",
            "          Dropout-27             [-1, 16, 4, 4]               0\n",
            "           Conv2d-28             [-1, 10, 1, 1]           2,570\n",
            "             ReLU-29             [-1, 10, 1, 1]               0\n",
            "      BatchNorm2d-30             [-1, 10, 1, 1]              20\n",
            "          Dropout-31             [-1, 10, 1, 1]               0\n",
            "           Linear-32                   [-1, 10]             110\n",
            "================================================================\n",
            "Total params: 16,470\n",
            "Trainable params: 16,470\n",
            "Non-trainable params: 0\n",
            "----------------------------------------------------------------\n",
            "Input size (MB): 0.00\n",
            "Forward/backward pass size (MB): 1.10\n",
            "Params size (MB): 0.06\n",
            "Estimated Total Size (MB): 1.16\n",
            "----------------------------------------------------------------\n"
          ]
        },
        {
          "output_type": "stream",
          "name": "stderr",
          "text": [
            "/usr/local/lib/python3.7/dist-packages/torch/nn/functional.py:718: UserWarning: Named tensors and all their associated APIs are an experimental feature and subject to change. Please do not use them for anything important until they are released as stable. (Triggered internally at  /pytorch/c10/core/TensorImpl.h:1156.)\n",
            "  return torch.max_pool2d(input, kernel_size, stride, padding, dilation, ceil_mode)\n"
          ]
        }
      ]
    },
    {
      "cell_type": "markdown",
      "metadata": {
        "id": "kYvpHU7p8r9p"
      },
      "source": [
        "**Preparing training and test data loader for training and validation**"
      ]
    },
    {
      "cell_type": "code",
      "metadata": {
        "id": "DqTWLaM5GHgH",
        "colab": {
          "base_uri": "https://localhost:8080/",
          "height": 471,
          "referenced_widgets": [
            "224d10d1b0b2478d83728a2eab676003",
            "29c3b6946f094476ad9da3cfa33aeb82",
            "f00b73782cd94fb383ff92d58159e992",
            "2aa6c9e9ad4f4fc490bb233fa19161c0",
            "f41ad69d3dbe42a9baf5537eb7779001",
            "48df2963deac4379b0e035bfaf28631a",
            "69591751d2834983bbda442db1b94d1b",
            "a8458431724643fdb3a1244f08fac11d",
            "27c4f6ffb93a4becb7433e84fee59621",
            "dec6f465264c4ccea4a571ac8442a81f",
            "dbe1749fae3e4ca2a794701dfe88b012",
            "c237ecdbbcea4a7d99c14db30f3fd895",
            "7450b5de2e5c47cfa0aff5fbcd8a0905",
            "e2eaf37612d44999b4c6c5ef40b99328",
            "6d7883326b0a4ecd901eb55c62a204d2",
            "403047ba2b214aa19920c3ce8231e022",
            "d84e6f598b574d469a853c7835f3c6db",
            "29ded0728d424920b93e2cca8a25447d",
            "c124a1aa5adf4c76b35ddf33afa201f4",
            "8b8da47921394576afb41dd2695b632d",
            "43044495b6fb43e5beefd37f23f4972e",
            "52ca099ce9f44da4a2bae85b741a99ab",
            "45af7e00dbe74f85926ae48c3f0f487c",
            "7f00dae52ddc498e8aca2557c7e28ab6",
            "12f9c01b0f3c47e288860409394a095a",
            "967f1c06b66042c5988047d14276211c",
            "62f6f9d9b0e44d8da3075fb3b053b12f",
            "0665fbfa572f479bbf8b4834e8a7dc8b",
            "fd5586c5c6c446df88c5ce4a8bb438e9",
            "f5a60881b2b2487f823d336a7f59d484",
            "7ca91ceb68944b788a6f83a448ffa766",
            "eb2db5bc72ac4f039d7423520cb78f28",
            "2a4251b61668449590f2b7a66b0554d9",
            "d85610bcee3440388a4506e6c3cedca7",
            "d6319a7753b94076a0be7e760b7ab8df",
            "432c9d0e2bcb4717a9b25d92742117dc",
            "eb4c111d6fe24a4885186b98ce70a8fe",
            "0a3865ce330f469095d0ec380b973610",
            "f91d3a8233cd460a81b14fa4fdfbe684",
            "7898e65fbbe545df83fa9f7cd700c7ee",
            "eaa5da742265438aa4e15b85f7e10c73",
            "aaf5fdc23b6849dbb812183818e82b5a",
            "35fdc230ea97422e86ebcf1476b13004",
            "68c41588273542a5a120e73238a32ad3"
          ]
        },
        "outputId": "7132f4eb-6e9a-46ee-a045-156f428033e9"
      },
      "source": [
        "# Preparing train and test loader for training\n",
        "torch.manual_seed(1)\n",
        "batch_size = 128\n",
        "\n",
        "kwargs = {'num_workers': 1, 'pin_memory': True} if use_cuda else {}\n",
        "train_loader = torch.utils.data.DataLoader(\n",
        "    datasets.MNIST('../data', train=True, download=True,\n",
        "                    transform=transforms.Compose([\n",
        "                        transforms.RandomRotation(30),\n",
        "                        transforms.ToTensor(),\n",
        "                        transforms.Normalize((0.1307,), (0.3081,))\n",
        "                    ])),\n",
        "    batch_size=batch_size, shuffle=True, **kwargs)\n",
        "test_loader = torch.utils.data.DataLoader(\n",
        "    datasets.MNIST('../data', train=False, transform=transforms.Compose([\n",
        "                        transforms.ToTensor(),\n",
        "                        transforms.Normalize((0.1307,), (0.3081,))\n",
        "                    ])),\n",
        "    batch_size=batch_size, shuffle=True, **kwargs)\n"
      ],
      "execution_count": null,
      "outputs": [
        {
          "output_type": "stream",
          "name": "stdout",
          "text": [
            "Downloading http://yann.lecun.com/exdb/mnist/train-images-idx3-ubyte.gz\n",
            "Downloading http://yann.lecun.com/exdb/mnist/train-images-idx3-ubyte.gz to ../data/MNIST/raw/train-images-idx3-ubyte.gz\n"
          ]
        },
        {
          "output_type": "display_data",
          "data": {
            "application/vnd.jupyter.widget-view+json": {
              "model_id": "224d10d1b0b2478d83728a2eab676003",
              "version_minor": 0,
              "version_major": 2
            },
            "text/plain": [
              "  0%|          | 0/9912422 [00:00<?, ?it/s]"
            ]
          },
          "metadata": {}
        },
        {
          "output_type": "stream",
          "name": "stdout",
          "text": [
            "Extracting ../data/MNIST/raw/train-images-idx3-ubyte.gz to ../data/MNIST/raw\n",
            "\n",
            "Downloading http://yann.lecun.com/exdb/mnist/train-labels-idx1-ubyte.gz\n",
            "Downloading http://yann.lecun.com/exdb/mnist/train-labels-idx1-ubyte.gz to ../data/MNIST/raw/train-labels-idx1-ubyte.gz\n"
          ]
        },
        {
          "output_type": "display_data",
          "data": {
            "application/vnd.jupyter.widget-view+json": {
              "model_id": "c237ecdbbcea4a7d99c14db30f3fd895",
              "version_minor": 0,
              "version_major": 2
            },
            "text/plain": [
              "  0%|          | 0/28881 [00:00<?, ?it/s]"
            ]
          },
          "metadata": {}
        },
        {
          "output_type": "stream",
          "name": "stdout",
          "text": [
            "Extracting ../data/MNIST/raw/train-labels-idx1-ubyte.gz to ../data/MNIST/raw\n",
            "\n",
            "Downloading http://yann.lecun.com/exdb/mnist/t10k-images-idx3-ubyte.gz\n",
            "Downloading http://yann.lecun.com/exdb/mnist/t10k-images-idx3-ubyte.gz to ../data/MNIST/raw/t10k-images-idx3-ubyte.gz\n"
          ]
        },
        {
          "output_type": "display_data",
          "data": {
            "application/vnd.jupyter.widget-view+json": {
              "model_id": "45af7e00dbe74f85926ae48c3f0f487c",
              "version_minor": 0,
              "version_major": 2
            },
            "text/plain": [
              "  0%|          | 0/1648877 [00:00<?, ?it/s]"
            ]
          },
          "metadata": {}
        },
        {
          "output_type": "stream",
          "name": "stdout",
          "text": [
            "Extracting ../data/MNIST/raw/t10k-images-idx3-ubyte.gz to ../data/MNIST/raw\n",
            "\n",
            "Downloading http://yann.lecun.com/exdb/mnist/t10k-labels-idx1-ubyte.gz\n",
            "Downloading http://yann.lecun.com/exdb/mnist/t10k-labels-idx1-ubyte.gz to ../data/MNIST/raw/t10k-labels-idx1-ubyte.gz\n"
          ]
        },
        {
          "output_type": "display_data",
          "data": {
            "application/vnd.jupyter.widget-view+json": {
              "model_id": "d85610bcee3440388a4506e6c3cedca7",
              "version_minor": 0,
              "version_major": 2
            },
            "text/plain": [
              "  0%|          | 0/4542 [00:00<?, ?it/s]"
            ]
          },
          "metadata": {}
        },
        {
          "output_type": "stream",
          "name": "stdout",
          "text": [
            "Extracting ../data/MNIST/raw/t10k-labels-idx1-ubyte.gz to ../data/MNIST/raw\n",
            "\n"
          ]
        },
        {
          "output_type": "stream",
          "name": "stderr",
          "text": [
            "/usr/local/lib/python3.7/dist-packages/torchvision/datasets/mnist.py:498: UserWarning: The given NumPy array is not writeable, and PyTorch does not support non-writeable tensors. This means you can write to the underlying (supposedly non-writeable) NumPy array using the tensor. You may want to copy the array to protect its data or make it writeable before converting it to a tensor. This type of warning will be suppressed for the rest of this program. (Triggered internally at  /pytorch/torch/csrc/utils/tensor_numpy.cpp:180.)\n",
            "  return torch.from_numpy(parsed.astype(m[2], copy=False)).view(*s)\n"
          ]
        }
      ]
    },
    {
      "cell_type": "markdown",
      "metadata": {
        "id": "mnFsjnkm9AsF"
      },
      "source": [
        "**Defining function to train and validate**"
      ]
    },
    {
      "cell_type": "code",
      "metadata": {
        "id": "8fDefDhaFlwH"
      },
      "source": [
        "# Train and validation\n",
        "from tqdm import tqdm\n",
        "def train(model, device, train_loader, optimizer, loss_function, lr_scheduler, epoch):\n",
        "    model.train()\n",
        "    pbar = tqdm(train_loader)\n",
        "    for batch_idx, (data, target) in enumerate(pbar):\n",
        "        data, target = data.to(device), target.to(device)\n",
        "        optimizer.zero_grad()\n",
        "        output = model(data)\n",
        "        loss = loss_function(output, target)\n",
        "        loss.backward()\n",
        "        optimizer.step()\n",
        "        pbar.set_description(desc= f'loss={loss.item()} LR: {optimizer.param_groups[0][\"lr\"]} batch_id={batch_idx}')\n",
        "    \n",
        "    # Updating learning rate after each epoch\n",
        "    lr_scheduler.step()\n",
        "\n",
        "def test(model, device, test_loader, loss_function, epoch):\n",
        "    model.eval()\n",
        "    test_loss = 0\n",
        "    correct = 0\n",
        "    with torch.no_grad():\n",
        "        for data, target in test_loader:\n",
        "            data, target = data.to(device), target.to(device)\n",
        "            output = model(data)\n",
        "            loss = loss_function(output, target)\n",
        "            test_loss += loss.item() # sum up batch loss\n",
        "            pred = output.argmax(dim=1, keepdim=True)  # get the index of the max log-probability\n",
        "            correct += pred.eq(target.view_as(pred)).sum().item()\n",
        "\n",
        "    test_loss /= len(test_loader.dataset)\n",
        "\n",
        "    print('\\nEpoch:{} Test set: Average loss: {:.4f}, Accuracy: {}/{} ({:.2f}%)\\n'.format(epoch,\n",
        "        test_loss, correct, len(test_loader.dataset),\n",
        "        100 * correct / len(test_loader.dataset)))"
      ],
      "execution_count": null,
      "outputs": []
    },
    {
      "cell_type": "markdown",
      "metadata": {
        "id": "0ci42tBH9S6h"
      },
      "source": [
        "**Model training and validation**"
      ]
    },
    {
      "cell_type": "code",
      "metadata": {
        "colab": {
          "base_uri": "https://localhost:8080/"
        },
        "id": "B_YMcSzE4LTS",
        "outputId": "905cc1a7-9dcd-4cd5-8868-970cd1bb1bd0"
      },
      "source": [
        "# Initialize model with learning rate scheduler, loss function and optimizer\n",
        "model = Net().to(device)\n",
        "optimizer = optim.Adam(model.parameters(), lr=0.1) # optimizer\n",
        "loss_function = F.cross_entropy # loss function\n",
        "lambda1 = lambda epoch: round(0.1 * 1/(1 + 0.319 * epoch), 10) # learning rate\n",
        "lr_scheduler = torch.optim.lr_scheduler.LambdaLR(optimizer, lr_lambda=lambda1) # learning rate scheduler\n",
        "\n",
        "# Model training & validation\n",
        "for epoch in range(1, 21):\n",
        "  train(model, device, train_loader, optimizer, loss_function, lr_scheduler, epoch)\n",
        "  test(model, device, test_loader, loss_function, epoch)\n"
      ],
      "execution_count": null,
      "outputs": [
        {
          "output_type": "stream",
          "name": "stderr",
          "text": [
            "loss=0.18191516399383545 LR: 0.010000000000000002 batch_id=468: 100%|██████████| 469/469 [00:27<00:00, 17.22it/s]\n"
          ]
        },
        {
          "output_type": "stream",
          "name": "stdout",
          "text": [
            "\n",
            "Epoch:1 Test set: Average loss: 0.0005, Accuracy: 9805/10000 (98.05%)\n",
            "\n"
          ]
        },
        {
          "output_type": "stream",
          "name": "stderr",
          "text": [
            "loss=0.047370944172143936 LR: 0.007581501140000001 batch_id=468: 100%|██████████| 469/469 [00:27<00:00, 17.03it/s]\n"
          ]
        },
        {
          "output_type": "stream",
          "name": "stdout",
          "text": [
            "\n",
            "Epoch:2 Test set: Average loss: 0.0004, Accuracy: 9827/10000 (98.27%)\n",
            "\n"
          ]
        },
        {
          "output_type": "stream",
          "name": "stderr",
          "text": [
            "loss=0.07604532688856125 LR: 0.00610500611 batch_id=468: 100%|██████████| 469/469 [00:27<00:00, 17.20it/s]\n"
          ]
        },
        {
          "output_type": "stream",
          "name": "stdout",
          "text": [
            "\n",
            "Epoch:3 Test set: Average loss: 0.0004, Accuracy: 9864/10000 (98.64%)\n",
            "\n"
          ]
        },
        {
          "output_type": "stream",
          "name": "stderr",
          "text": [
            "loss=0.0994354709982872 LR: 0.0051098620300000005 batch_id=468: 100%|██████████| 469/469 [00:27<00:00, 17.14it/s]\n"
          ]
        },
        {
          "output_type": "stream",
          "name": "stdout",
          "text": [
            "\n",
            "Epoch:4 Test set: Average loss: 0.0003, Accuracy: 9888/10000 (98.88%)\n",
            "\n"
          ]
        },
        {
          "output_type": "stream",
          "name": "stderr",
          "text": [
            "loss=0.08652856200933456 LR: 0.00439367311 batch_id=468: 100%|██████████| 469/469 [00:27<00:00, 17.18it/s]\n"
          ]
        },
        {
          "output_type": "stream",
          "name": "stdout",
          "text": [
            "\n",
            "Epoch:5 Test set: Average loss: 0.0002, Accuracy: 9918/10000 (99.18%)\n",
            "\n"
          ]
        },
        {
          "output_type": "stream",
          "name": "stderr",
          "text": [
            "loss=0.13949690759181976 LR: 0.0038535645500000003 batch_id=468: 100%|██████████| 469/469 [00:27<00:00, 17.03it/s]\n"
          ]
        },
        {
          "output_type": "stream",
          "name": "stdout",
          "text": [
            "\n",
            "Epoch:6 Test set: Average loss: 0.0002, Accuracy: 9891/10000 (98.91%)\n",
            "\n"
          ]
        },
        {
          "output_type": "stream",
          "name": "stderr",
          "text": [
            "loss=0.05737486481666565 LR: 0.0034317089900000003 batch_id=468: 100%|██████████| 469/469 [00:27<00:00, 17.04it/s]\n"
          ]
        },
        {
          "output_type": "stream",
          "name": "stdout",
          "text": [
            "\n",
            "Epoch:7 Test set: Average loss: 0.0002, Accuracy: 9913/10000 (99.13%)\n",
            "\n"
          ]
        },
        {
          "output_type": "stream",
          "name": "stderr",
          "text": [
            "loss=0.06265316158533096 LR: 0.00309310238 batch_id=468: 100%|██████████| 469/469 [00:27<00:00, 16.91it/s]\n"
          ]
        },
        {
          "output_type": "stream",
          "name": "stdout",
          "text": [
            "\n",
            "Epoch:8 Test set: Average loss: 0.0003, Accuracy: 9900/10000 (99.00%)\n",
            "\n"
          ]
        },
        {
          "output_type": "stream",
          "name": "stderr",
          "text": [
            "loss=0.05782516673207283 LR: 0.00281531532 batch_id=468: 100%|██████████| 469/469 [00:27<00:00, 17.01it/s]\n"
          ]
        },
        {
          "output_type": "stream",
          "name": "stdout",
          "text": [
            "\n",
            "Epoch:9 Test set: Average loss: 0.0002, Accuracy: 9917/10000 (99.17%)\n",
            "\n"
          ]
        },
        {
          "output_type": "stream",
          "name": "stderr",
          "text": [
            "loss=0.1332884281873703 LR: 0.0025833118100000003 batch_id=468: 100%|██████████| 469/469 [00:27<00:00, 17.09it/s]\n"
          ]
        },
        {
          "output_type": "stream",
          "name": "stdout",
          "text": [
            "\n",
            "Epoch:10 Test set: Average loss: 0.0002, Accuracy: 9916/10000 (99.16%)\n",
            "\n"
          ]
        },
        {
          "output_type": "stream",
          "name": "stderr",
          "text": [
            "loss=0.04740471765398979 LR: 0.0023866348400000004 batch_id=468: 100%|██████████| 469/469 [00:27<00:00, 17.13it/s]\n"
          ]
        },
        {
          "output_type": "stream",
          "name": "stdout",
          "text": [
            "\n",
            "Epoch:11 Test set: Average loss: 0.0002, Accuracy: 9925/10000 (99.25%)\n",
            "\n"
          ]
        },
        {
          "output_type": "stream",
          "name": "stderr",
          "text": [
            "loss=0.09961902350187302 LR: 0.0022177866500000002 batch_id=468: 100%|██████████| 469/469 [00:27<00:00, 17.08it/s]\n"
          ]
        },
        {
          "output_type": "stream",
          "name": "stdout",
          "text": [
            "\n",
            "Epoch:12 Test set: Average loss: 0.0002, Accuracy: 9922/10000 (99.22%)\n",
            "\n"
          ]
        },
        {
          "output_type": "stream",
          "name": "stderr",
          "text": [
            "loss=0.038910821080207825 LR: 0.00207125104 batch_id=468: 100%|██████████| 469/469 [00:27<00:00, 16.99it/s]\n"
          ]
        },
        {
          "output_type": "stream",
          "name": "stdout",
          "text": [
            "\n",
            "Epoch:13 Test set: Average loss: 0.0002, Accuracy: 9920/10000 (99.20%)\n",
            "\n"
          ]
        },
        {
          "output_type": "stream",
          "name": "stderr",
          "text": [
            "loss=0.06961670517921448 LR: 0.0019428793500000001 batch_id=468: 100%|██████████| 469/469 [00:27<00:00, 17.15it/s]\n"
          ]
        },
        {
          "output_type": "stream",
          "name": "stdout",
          "text": [
            "\n",
            "Epoch:14 Test set: Average loss: 0.0002, Accuracy: 9928/10000 (99.28%)\n",
            "\n"
          ]
        },
        {
          "output_type": "stream",
          "name": "stderr",
          "text": [
            "loss=0.06126169487833977 LR: 0.0018294914 batch_id=468: 100%|██████████| 469/469 [00:27<00:00, 17.08it/s]\n"
          ]
        },
        {
          "output_type": "stream",
          "name": "stdout",
          "text": [
            "\n",
            "Epoch:15 Test set: Average loss: 0.0002, Accuracy: 9930/10000 (99.30%)\n",
            "\n"
          ]
        },
        {
          "output_type": "stream",
          "name": "stderr",
          "text": [
            "loss=0.0913342833518982 LR: 0.00172860847 batch_id=468: 100%|██████████| 469/469 [00:27<00:00, 17.18it/s]\n"
          ]
        },
        {
          "output_type": "stream",
          "name": "stdout",
          "text": [
            "\n",
            "Epoch:16 Test set: Average loss: 0.0002, Accuracy: 9920/10000 (99.20%)\n",
            "\n"
          ]
        },
        {
          "output_type": "stream",
          "name": "stderr",
          "text": [
            "loss=0.014996021054685116 LR: 0.0016382699899999999 batch_id=468: 100%|██████████| 469/469 [00:27<00:00, 17.18it/s]\n"
          ]
        },
        {
          "output_type": "stream",
          "name": "stdout",
          "text": [
            "\n",
            "Epoch:17 Test set: Average loss: 0.0002, Accuracy: 9928/10000 (99.28%)\n",
            "\n"
          ]
        },
        {
          "output_type": "stream",
          "name": "stderr",
          "text": [
            "loss=0.05374161899089813 LR: 0.00155690487 batch_id=468: 100%|██████████| 469/469 [00:27<00:00, 16.93it/s]\n"
          ]
        },
        {
          "output_type": "stream",
          "name": "stdout",
          "text": [
            "\n",
            "Epoch:18 Test set: Average loss: 0.0002, Accuracy: 9938/10000 (99.38%)\n",
            "\n"
          ]
        },
        {
          "output_type": "stream",
          "name": "stderr",
          "text": [
            "loss=0.040314529091119766 LR: 0.00148323939 batch_id=468: 100%|██████████| 469/469 [00:27<00:00, 17.04it/s]\n"
          ]
        },
        {
          "output_type": "stream",
          "name": "stdout",
          "text": [
            "\n",
            "Epoch:19 Test set: Average loss: 0.0002, Accuracy: 9941/10000 (99.41%)\n",
            "\n"
          ]
        },
        {
          "output_type": "stream",
          "name": "stderr",
          "text": [
            "loss=0.022165248170495033 LR: 0.00141623 batch_id=468: 100%|██████████| 469/469 [00:27<00:00, 16.89it/s]\n"
          ]
        },
        {
          "output_type": "stream",
          "name": "stdout",
          "text": [
            "\n",
            "Epoch:20 Test set: Average loss: 0.0002, Accuracy: 9938/10000 (99.38%)\n",
            "\n"
          ]
        }
      ]
    },
    {
      "cell_type": "markdown",
      "metadata": {
        "id": "wMWxg-zJ-vhZ"
      },
      "source": [
        "**From the model log it's showing the best validation accuracy is 99.41%**"
      ]
    }
  ]
}