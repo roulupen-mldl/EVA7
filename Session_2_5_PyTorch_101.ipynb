{
  "nbformat": 4,
  "nbformat_minor": 0,
  "metadata": {
    "colab": {
      "name": "Session_2_5_PyTorch_101.ipynb",
      "provenance": [],
      "collapsed_sections": [],
      "authorship_tag": "ABX9TyOvGDVlS6ivEkWWVsqo2zPw",
      "include_colab_link": true
    },
    "kernelspec": {
      "name": "python3",
      "display_name": "Python 3"
    },
    "language_info": {
      "name": "python"
    },
    "accelerator": "GPU"
  },
  "cells": [
    {
      "cell_type": "markdown",
      "metadata": {
        "id": "view-in-github",
        "colab_type": "text"
      },
      "source": [
        "<a href=\"https://colab.research.google.com/github/roulupen-mldl/EVA7/blob/main/Session_2_5_PyTorch_101.ipynb\" target=\"_parent\"><img src=\"https://colab.research.google.com/assets/colab-badge.svg\" alt=\"Open In Colab\"/></a>"
      ]
    },
    {
      "cell_type": "code",
      "metadata": {
        "id": "j35JzDwrPBem"
      },
      "source": [
        "from __future__ import print_function\n",
        "import torch\n",
        "import torch.nn as nn\n",
        "import torch.nn.functional as F\n",
        "import torch.optim as optim\n",
        "from torchvision import datasets, transforms\n",
        "from torchvision.transforms import ToTensor, Lambda\n",
        "from torch.utils.data import Dataset\n",
        "from torchvision.transforms.functional import to_tensor\n",
        "\n",
        "import matplotlib.pyplot as plt"
      ],
      "execution_count": 1,
      "outputs": []
    },
    {
      "cell_type": "code",
      "metadata": {
        "id": "UStmLohEJhU6"
      },
      "source": [
        "class CustomMNIST(Dataset):\n",
        "  def __init__(self, mnist_data):\n",
        "    self.mnist = mnist_data\n",
        "    self.mnist.data = self.mnist.data.float()\n",
        "    random_num = torch.randint(0, 9, (len(mnist_data),) )\n",
        "    self.random_num_one_hot = F.one_hot(random_num, num_classes=10)\n",
        "\n",
        "    sum_output = random_num + self.mnist.targets\n",
        "    self.output_one_hot = torch.cat((torch.reshape(self.mnist.targets, (len(mnist_data), 1)), torch.reshape(sum_output, (len(mnist_data), 1))), 1)\n",
        "    #self.output_one_hot = torch.cat((F.one_hot(self.mnist.targets, num_classes=10), F.one_hot(random_num + self.mnist.targets, num_classes=19)), dim=1)\n",
        "\n",
        "  def __getitem__(self, index):\n",
        "    return (torch.reshape(self.mnist.data[index], (1, 28, 28)), self.random_num_one_hot[index].float(), self.output_one_hot[index])\n",
        "\n",
        "  def __len__(self):\n",
        "    return len(self.mnist)\n"
      ],
      "execution_count": 2,
      "outputs": []
    },
    {
      "cell_type": "code",
      "metadata": {
        "colab": {
          "base_uri": "https://localhost:8080/"
        },
        "id": "uFBemh4oS6KB",
        "outputId": "4a1fae61-84be-4066-d018-9fa1ab502132"
      },
      "source": [
        "mnist_train_set = datasets.MNIST(\n",
        "    root='../data',\n",
        "    train=True,\n",
        "    download=True,\n",
        "    transform = transforms.ToTensor()\n",
        ")\n",
        "\n",
        "mnist_test_set = datasets.MNIST(\n",
        "    root='../data',\n",
        "    train=False,\n",
        "    download=True,\n",
        "    transform = transforms.ToTensor()\n",
        ")"
      ],
      "execution_count": 3,
      "outputs": [
        {
          "output_type": "stream",
          "name": "stderr",
          "text": [
            "/usr/local/lib/python3.7/dist-packages/torchvision/datasets/mnist.py:498: UserWarning: The given NumPy array is not writeable, and PyTorch does not support non-writeable tensors. This means you can write to the underlying (supposedly non-writeable) NumPy array using the tensor. You may want to copy the array to protect its data or make it writeable before converting it to a tensor. This type of warning will be suppressed for the rest of this program. (Triggered internally at  /pytorch/torch/csrc/utils/tensor_numpy.cpp:180.)\n",
            "  return torch.from_numpy(parsed.astype(m[2], copy=False)).view(*s)\n"
          ]
        }
      ]
    },
    {
      "cell_type": "code",
      "metadata": {
        "colab": {
          "base_uri": "https://localhost:8080/"
        },
        "id": "8To8vdC8TIRP",
        "outputId": "ddb7473f-69e2-421f-e95b-c58ca17ef92e"
      },
      "source": [
        "custom_mnist_train = CustomMNIST(mnist_train_set)\n",
        "custom_mnist_test = CustomMNIST(mnist_test_set)\n",
        "\n",
        "print(len(custom_mnist_train), len(custom_mnist_test))"
      ],
      "execution_count": 4,
      "outputs": [
        {
          "output_type": "stream",
          "name": "stdout",
          "text": [
            "60000 10000\n"
          ]
        }
      ]
    },
    {
      "cell_type": "code",
      "metadata": {
        "id": "GrPUyQIzTW8p"
      },
      "source": [
        "torch.manual_seed(1)\n",
        "batch_size = 128\n",
        "use_cuda = torch.cuda.is_available()\n",
        "device = torch.device(\"cuda\" if use_cuda else \"cpu\")\n",
        "\n",
        "kwargs = {'num_workers': 1, 'pin_memory': True} if use_cuda else {}\n",
        "train_loader = torch.utils.data.DataLoader(custom_mnist_train, batch_size=batch_size, shuffle=True, **kwargs)\n",
        "test_loader = torch.utils.data.DataLoader(custom_mnist_test, batch_size=batch_size, shuffle=True, **kwargs)"
      ],
      "execution_count": 5,
      "outputs": []
    },
    {
      "cell_type": "code",
      "metadata": {
        "colab": {
          "base_uri": "https://localhost:8080/"
        },
        "id": "LnUBvhZATOVY",
        "outputId": "f7db4816-7cd6-47d5-9b66-3c9c4de550d2"
      },
      "source": [
        "data=iter(train_loader)\n",
        "images, random_nums, output = next(data)\n",
        "print(f\"number of samples{images.shape} {images.dtype}\")\n",
        "print(f\"number of labels {random_nums.shape} {random_nums.dtype}\")\n",
        "print(f\"Outout {output.shape} {output.dtype}\")"
      ],
      "execution_count": 6,
      "outputs": [
        {
          "output_type": "stream",
          "name": "stdout",
          "text": [
            "number of samplestorch.Size([128, 1, 28, 28]) torch.float32\n",
            "number of labels torch.Size([128, 10]) torch.float32\n",
            "Outout torch.Size([128, 2]) torch.int64\n"
          ]
        }
      ]
    },
    {
      "cell_type": "code",
      "metadata": {
        "colab": {
          "base_uri": "https://localhost:8080/",
          "height": 384
        },
        "id": "82qH1_uUXOOK",
        "outputId": "84d63a51-3e4d-4d17-d0bb-55a62476683a"
      },
      "source": [
        "plt.figure(figsize=(10,8))\n",
        "for i in range(10):\n",
        "    plt.subplot(2,5,i+1)\n",
        "    plt.imshow(images[i][0], cmap='BuPu')\n",
        "plt.show()"
      ],
      "execution_count": 7,
      "outputs": [
        {
          "output_type": "display_data",
          "data": {
            "image/png": "[encoded data removed]",
            "text/plain": [
              "<Figure size 720x576 with 10 Axes>"
            ]
          },
          "metadata": {
            "needs_background": "light"
          }
        }
      ]
    },
    {
      "cell_type": "markdown",
      "metadata": {
        "id": "5_i16cOsYiP0"
      },
      "source": [
        "## Model"
      ]
    },
    {
      "cell_type": "code",
      "metadata": {
        "id": "Vmxvj3OiYjoW"
      },
      "source": [
        "class Net(nn.Module):\n",
        "    def __init__(self):\n",
        "        super(Net, self).__init__()\n",
        "        self.conv1 = nn.Conv2d(1, 32, 3, padding=1) \n",
        "        self.conv2 = nn.Conv2d(32, 64, 3, padding=1) \n",
        "        self.pool1 = nn.MaxPool2d(2, 2)\n",
        "        self.conv3 = nn.Conv2d(64, 128, 3, padding=1)\n",
        "        self.conv4 = nn.Conv2d(128, 256, 3, padding=1)\n",
        "        self.pool2 = nn.MaxPool2d(2, 2)\n",
        "        self.conv5 = nn.Conv2d(256, 512, 3)\n",
        "        self.conv6 = nn.Conv2d(512, 1024, 3)\n",
        "        self.conv7 = nn.Conv2d(1024, 10, 3)\n",
        "        \n",
        "        # First fully connected layer\n",
        "        self.fc1 = nn.Linear(9216, 128)\n",
        "\n",
        "        # Fully connected layer for sum number\n",
        "        self.fcsum = nn.Linear(10, 20)\n",
        "        \n",
        "        # Second fully connected layer that outputs our 10 labels\n",
        "        self.fc2 = nn.Linear(148, 29) # First 1 for predicting image and next 19 for sum calculation\n",
        "\n",
        "    def forward(self, x, num):\n",
        "        x = self.pool1(F.relu(self.conv2(F.relu(self.conv1(x))))) # 28 x 28 x 1 | 14 x 14 x 64, RF = 8 x 8\n",
        "        x = self.pool2(F.relu(self.conv4(F.relu(self.conv3(x))))) # 14 x 14 x 64 | 7 x 7 x 256, RF = 24 x 14\n",
        "        x = F.relu(self.conv6(F.relu(self.conv5(x)))) # 7 x 7 x 256 | 3 x 3 x 1024, 28 x 28\n",
        "\n",
        "        x = torch.flatten(x, 1)\n",
        "        num = torch.flatten(num, 1)\n",
        "\n",
        "        # Pass data through fc1\n",
        "        x = F.relu(self.fc1(x))\n",
        "\n",
        "        # First FC layer for random number\n",
        "        num = F.relu(self.fcsum(num))\n",
        "\n",
        "        # Concatenating X FC to num FC\n",
        "        x = torch.cat((x, num), 1)\n",
        "\n",
        "        # Pass data through fc2\n",
        "        x = F.relu(self.fc2(x))\n",
        "\n",
        "        #x = F.relu(self.conv7(x)) # 3 x 3 x 1024 | 1 x 1 x 10\n",
        "        x = x.view(-1, 29)\n",
        "        x = F.log_softmax(x, dim=1)\n",
        "        return x # applying softmax activation for final classification"
      ],
      "execution_count": 8,
      "outputs": []
    },
    {
      "cell_type": "code",
      "metadata": {
        "id": "XtaiXdAlhReI"
      },
      "source": [
        "from tqdm import tqdm\n",
        "\n",
        "def get_num_correct(preds, labels):\n",
        "   return preds.argmax(dim=1).eq(labels).sum().item()\n",
        "\n",
        "def train(model, device, train_loader, optimizer, epoch):\n",
        "    model.train()\n",
        "    pbar = tqdm(train_loader)\n",
        "\n",
        "    total_correct_img = 0\n",
        "    total_correct_sum = 0\n",
        "    for batch_idx, (data, input_num, target) in enumerate(pbar):      \n",
        "      data, input_num, target = data.to(device), input_num.to(device), target.to(target)\n",
        "      optimizer.zero_grad()\n",
        "      output = model(data, input_num)\n",
        "\n",
        "      output1, output2 = torch.tensor_split(output, (10,), dim=1)\n",
        "      target1, target2 = torch.tensor_split(target, (1,), dim=1)\n",
        "\n",
        "      target1 = torch.squeeze(target1).to(device)\n",
        "      target2 = torch.squeeze(target2).to(device)\n",
        "\n",
        "      loss1 = F.cross_entropy(output1, target1)\n",
        "      loss2 = F.cross_entropy(output2, target2)\n",
        "\n",
        "      loss = loss1 + loss2\n",
        "      loss.cuda()\n",
        "      loss.backward()\n",
        "      optimizer.step()\n",
        "\n",
        "      total_correct_img += get_num_correct(output1, target1)\n",
        "      total_correct_sum += get_num_correct(output2, target2)\n",
        "      \n",
        "      pbar.set_description(desc= f'loss={loss.item()} total_correct_img={total_correct_img} total_correct_sum={total_correct_sum}  batch_id={batch_idx}')\n"
      ],
      "execution_count": 9,
      "outputs": []
    },
    {
      "cell_type": "code",
      "metadata": {
        "colab": {
          "base_uri": "https://localhost:8080/"
        },
        "id": "9wnq1lagKGbn",
        "outputId": "14767ac6-b6fb-403e-8ce9-a3f4342f3183"
      },
      "source": [
        "model = Net().to(device)\n",
        "optimizer = optim.SGD(model.parameters(), lr=0.01, momentum=0.9)\n",
        "\n",
        "for epoch in range(1, 11):\n",
        "    train(model, device, train_loader, optimizer, epoch)"
      ],
      "execution_count": 10,
      "outputs": [
        {
          "output_type": "stream",
          "name": "stderr",
          "text": [
            "  0%|          | 0/469 [00:00<?, ?it/s]/usr/local/lib/python3.7/dist-packages/torch/nn/functional.py:718: UserWarning: Named tensors and all their associated APIs are an experimental feature and subject to change. Please do not use them for anything important until they are released as stable. (Triggered internally at  /pytorch/c10/core/TensorImpl.h:1156.)\n",
            "  return torch.max_pool2d(input, kernel_size, stride, padding, dilation, ceil_mode)\n",
            "loss=3.1988210678100586 total_correct_img=51794 total_correct_sum=1128  batch_id=468: 100%|██████████| 469/469 [00:35<00:00, 13.29it/s]\n",
            "loss=3.1424832344055176 total_correct_img=53603 total_correct_sum=682  batch_id=468: 100%|██████████| 469/469 [00:35<00:00, 13.28it/s]\n",
            "loss=3.2306032180786133 total_correct_img=53774 total_correct_sum=683  batch_id=468: 100%|██████████| 469/469 [00:35<00:00, 13.33it/s]\n",
            "loss=3.305115222930908 total_correct_img=53880 total_correct_sum=745  batch_id=468: 100%|██████████| 469/469 [00:35<00:00, 13.27it/s]\n",
            "loss=3.089914083480835 total_correct_img=53931 total_correct_sum=682  batch_id=468: 100%|██████████| 469/469 [00:35<00:00, 13.29it/s]\n",
            "loss=3.1933302879333496 total_correct_img=53969 total_correct_sum=683  batch_id=468: 100%|██████████| 469/469 [00:35<00:00, 13.31it/s]\n",
            "loss=3.1443140506744385 total_correct_img=53966 total_correct_sum=686  batch_id=468: 100%|██████████| 469/469 [00:35<00:00, 13.28it/s]\n",
            "loss=3.2085084915161133 total_correct_img=53989 total_correct_sum=682  batch_id=468: 100%|██████████| 469/469 [00:35<00:00, 13.27it/s]\n",
            "loss=3.1123573780059814 total_correct_img=54010 total_correct_sum=682  batch_id=468: 100%|██████████| 469/469 [00:35<00:00, 13.30it/s]\n",
            "loss=3.1842916011810303 total_correct_img=54023 total_correct_sum=682  batch_id=468: 100%|██████████| 469/469 [00:35<00:00, 13.34it/s]\n"
          ]
        }
      ]
    },
    {
      "cell_type": "code",
      "metadata": {
        "id": "IaWKpRqeKOwY"
      },
      "source": [
        ""
      ],
      "execution_count": 10,
      "outputs": []
    }
  ]
}